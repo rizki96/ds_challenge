{
 "cells": [
  {
   "cell_type": "markdown",
   "metadata": {},
   "source": [
    "# It's a recommendation system for booked driver. The idea is to avoid these busy areas when they are on duties for delivering."
   ]
  },
  {
   "cell_type": "code",
   "execution_count": null,
   "metadata": {},
   "outputs": [],
   "source": [
    "# load data traffic\n",
    "\n",
    "# build the cluster\n",
    "\n",
    "# save the cluster into db\n",
    "\n",
    "# visualize the cluster\n",
    "\n",
    "# using model created for weekly prediction\n",
    "\n",
    "# visualize the high demand cluster\n"
   ]
  }
 ],
 "metadata": {
  "kernelspec": {
   "display_name": "Python 3",
   "language": "python",
   "name": "python3"
  },
  "language_info": {
   "codemirror_mode": {
    "name": "ipython",
    "version": 3
   },
   "file_extension": ".py",
   "mimetype": "text/x-python",
   "name": "python",
   "nbconvert_exporter": "python",
   "pygments_lexer": "ipython3",
   "version": "3.6.7"
  }
 },
 "nbformat": 4,
 "nbformat_minor": 2
}
