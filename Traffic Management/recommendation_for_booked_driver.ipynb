{
 "cells": [
  {
   "cell_type": "markdown",
   "metadata": {},
   "source": [
    "# It's a recommendation system for booked driver. The idea is to avoid these busy areas when they are on duties for delivering."
   ]
  },
  {
   "cell_type": "code",
   "execution_count": 1,
   "metadata": {},
   "outputs": [
    {
     "name": "stdout",
     "output_type": "stream",
     "text": [
      "Requirement already satisfied: jupyter in /home/rizki/workspace/venv/py36/lib/python3.6/site-packages (from -r https://raw.githubusercontent.com/rizki96/ds_challenge/master/requirements.txt (line 1)) (1.0.0)\n",
      "Requirement already satisfied: pandas in /home/rizki/workspace/venv/py36/lib/python3.6/site-packages (from -r https://raw.githubusercontent.com/rizki96/ds_challenge/master/requirements.txt (line 2)) (0.24.2)\n",
      "Requirement already satisfied: numpy in /home/rizki/workspace/venv/py36/lib/python3.6/site-packages (from -r https://raw.githubusercontent.com/rizki96/ds_challenge/master/requirements.txt (line 3)) (1.16.4)\n",
      "Requirement already satisfied: requests in /home/rizki/workspace/venv/py36/lib/python3.6/site-packages (from -r https://raw.githubusercontent.com/rizki96/ds_challenge/master/requirements.txt (line 4)) (2.22.0)\n",
      "Requirement already satisfied: python-geohash in /home/rizki/workspace/venv/py36/lib/python3.6/site-packages (from -r https://raw.githubusercontent.com/rizki96/ds_challenge/master/requirements.txt (line 5)) (0.8.5)\n",
      "Requirement already satisfied: seaborn in /home/rizki/workspace/venv/py36/lib/python3.6/site-packages (from -r https://raw.githubusercontent.com/rizki96/ds_challenge/master/requirements.txt (line 6)) (0.9.0)\n",
      "Requirement already satisfied: matplotlib in /home/rizki/workspace/venv/py36/lib/python3.6/site-packages (from -r https://raw.githubusercontent.com/rizki96/ds_challenge/master/requirements.txt (line 7)) (3.1.0)\n",
      "Requirement already satisfied: scikit-learn in /home/rizki/workspace/venv/py36/lib/python3.6/site-packages (from -r https://raw.githubusercontent.com/rizki96/ds_challenge/master/requirements.txt (line 8)) (0.21.2)\n",
      "Requirement already satisfied: shapely in /home/rizki/workspace/venv/py36/lib/python3.6/site-packages (from -r https://raw.githubusercontent.com/rizki96/ds_challenge/master/requirements.txt (line 9)) (1.6.4.post2)\n",
      "Requirement already satisfied: geopy in /home/rizki/workspace/venv/py36/lib/python3.6/site-packages (from -r https://raw.githubusercontent.com/rizki96/ds_challenge/master/requirements.txt (line 10)) (1.20.0)\n",
      "Requirement already satisfied: pystan in /home/rizki/workspace/venv/py36/lib/python3.6/site-packages (from -r https://raw.githubusercontent.com/rizki96/ds_challenge/master/requirements.txt (line 11)) (2.19.0.0)\n",
      "Requirement already satisfied: gluonts in /home/rizki/workspace/venv/py36/lib/python3.6/site-packages (from -r https://raw.githubusercontent.com/rizki96/ds_challenge/master/requirements.txt (line 12)) (0.1.4)\n",
      "Requirement already satisfied: keras in /home/rizki/workspace/venv/py36/lib/python3.6/site-packages (from -r https://raw.githubusercontent.com/rizki96/ds_challenge/master/requirements.txt (line 13)) (2.2.4)\n",
      "Requirement already satisfied: tensorflow in /home/rizki/workspace/venv/py36/lib/python3.6/site-packages (from -r https://raw.githubusercontent.com/rizki96/ds_challenge/master/requirements.txt (line 14)) (1.13.1)\n",
      "Requirement already satisfied: qtconsole in /home/rizki/workspace/venv/py36/lib/python3.6/site-packages (from jupyter->-r https://raw.githubusercontent.com/rizki96/ds_challenge/master/requirements.txt (line 1)) (4.5.1)\n",
      "Requirement already satisfied: ipykernel in /home/rizki/workspace/venv/py36/lib/python3.6/site-packages (from jupyter->-r https://raw.githubusercontent.com/rizki96/ds_challenge/master/requirements.txt (line 1)) (5.1.1)\n",
      "Requirement already satisfied: nbconvert in /home/rizki/workspace/venv/py36/lib/python3.6/site-packages (from jupyter->-r https://raw.githubusercontent.com/rizki96/ds_challenge/master/requirements.txt (line 1)) (5.5.0)\n",
      "Requirement already satisfied: notebook in /home/rizki/workspace/venv/py36/lib/python3.6/site-packages (from jupyter->-r https://raw.githubusercontent.com/rizki96/ds_challenge/master/requirements.txt (line 1)) (5.7.8)\n",
      "Requirement already satisfied: ipywidgets in /home/rizki/workspace/venv/py36/lib/python3.6/site-packages (from jupyter->-r https://raw.githubusercontent.com/rizki96/ds_challenge/master/requirements.txt (line 1)) (7.4.2)\n",
      "Requirement already satisfied: jupyter-console in /home/rizki/workspace/venv/py36/lib/python3.6/site-packages (from jupyter->-r https://raw.githubusercontent.com/rizki96/ds_challenge/master/requirements.txt (line 1)) (6.0.0)\n",
      "Requirement already satisfied: python-dateutil>=2.5.0 in /home/rizki/workspace/venv/py36/lib/python3.6/site-packages (from pandas->-r https://raw.githubusercontent.com/rizki96/ds_challenge/master/requirements.txt (line 2)) (2.8.0)\n",
      "Requirement already satisfied: pytz>=2011k in /home/rizki/workspace/venv/py36/lib/python3.6/site-packages (from pandas->-r https://raw.githubusercontent.com/rizki96/ds_challenge/master/requirements.txt (line 2)) (2019.1)\n",
      "Requirement already satisfied: chardet<3.1.0,>=3.0.2 in /home/rizki/workspace/venv/py36/lib/python3.6/site-packages (from requests->-r https://raw.githubusercontent.com/rizki96/ds_challenge/master/requirements.txt (line 4)) (3.0.4)\n",
      "Requirement already satisfied: certifi>=2017.4.17 in /home/rizki/workspace/venv/py36/lib/python3.6/site-packages (from requests->-r https://raw.githubusercontent.com/rizki96/ds_challenge/master/requirements.txt (line 4)) (2019.6.16)\n",
      "Requirement already satisfied: idna<2.9,>=2.5 in /home/rizki/workspace/venv/py36/lib/python3.6/site-packages (from requests->-r https://raw.githubusercontent.com/rizki96/ds_challenge/master/requirements.txt (line 4)) (2.8)\n",
      "Requirement already satisfied: urllib3!=1.25.0,!=1.25.1,<1.26,>=1.21.1 in /home/rizki/workspace/venv/py36/lib/python3.6/site-packages (from requests->-r https://raw.githubusercontent.com/rizki96/ds_challenge/master/requirements.txt (line 4)) (1.25.3)\n",
      "Requirement already satisfied: scipy>=0.14.0 in /home/rizki/workspace/venv/py36/lib/python3.6/site-packages (from seaborn->-r https://raw.githubusercontent.com/rizki96/ds_challenge/master/requirements.txt (line 6)) (1.3.0)\n",
      "Requirement already satisfied: kiwisolver>=1.0.1 in /home/rizki/workspace/venv/py36/lib/python3.6/site-packages (from matplotlib->-r https://raw.githubusercontent.com/rizki96/ds_challenge/master/requirements.txt (line 7)) (1.1.0)\n",
      "Requirement already satisfied: cycler>=0.10 in /home/rizki/workspace/venv/py36/lib/python3.6/site-packages (from matplotlib->-r https://raw.githubusercontent.com/rizki96/ds_challenge/master/requirements.txt (line 7)) (0.10.0)\n",
      "Requirement already satisfied: pyparsing!=2.0.4,!=2.1.2,!=2.1.6,>=2.0.1 in /home/rizki/workspace/venv/py36/lib/python3.6/site-packages (from matplotlib->-r https://raw.githubusercontent.com/rizki96/ds_challenge/master/requirements.txt (line 7)) (2.4.0)\n",
      "Requirement already satisfied: joblib>=0.11 in /home/rizki/workspace/venv/py36/lib/python3.6/site-packages (from scikit-learn->-r https://raw.githubusercontent.com/rizki96/ds_challenge/master/requirements.txt (line 8)) (0.13.2)\n",
      "Requirement already satisfied: geographiclib<2,>=1.49 in /home/rizki/workspace/venv/py36/lib/python3.6/site-packages (from geopy->-r https://raw.githubusercontent.com/rizki96/ds_challenge/master/requirements.txt (line 10)) (1.49)\n",
      "Requirement already satisfied: Cython!=0.25.1,>=0.22 in /home/rizki/workspace/venv/py36/lib/python3.6/site-packages (from pystan->-r https://raw.githubusercontent.com/rizki96/ds_challenge/master/requirements.txt (line 11)) (0.29.10)\n",
      "Requirement already satisfied: holidays==0.9.* in /home/rizki/workspace/venv/py36/lib/python3.6/site-packages (from gluonts->-r https://raw.githubusercontent.com/rizki96/ds_challenge/master/requirements.txt (line 12)) (0.9.10)\n",
      "Requirement already satisfied: tqdm>=4.23.0 in /home/rizki/workspace/venv/py36/lib/python3.6/site-packages (from gluonts->-r https://raw.githubusercontent.com/rizki96/ds_challenge/master/requirements.txt (line 12)) (4.32.1)\n",
      "Requirement already satisfied: pydantic==0.28.* in /home/rizki/workspace/venv/py36/lib/python3.6/site-packages (from gluonts->-r https://raw.githubusercontent.com/rizki96/ds_challenge/master/requirements.txt (line 12)) (0.28)\n",
      "Requirement already satisfied: boto3==1.* in /home/rizki/workspace/venv/py36/lib/python3.6/site-packages (from gluonts->-r https://raw.githubusercontent.com/rizki96/ds_challenge/master/requirements.txt (line 12)) (1.9.169)\n",
      "Requirement already satisfied: ujson>=1.35 in /home/rizki/workspace/venv/py36/lib/python3.6/site-packages (from gluonts->-r https://raw.githubusercontent.com/rizki96/ds_challenge/master/requirements.txt (line 12)) (1.35)\n",
      "Requirement already satisfied: mxnet>=1.3.1 in /home/rizki/workspace/venv/py36/lib/python3.6/site-packages (from gluonts->-r https://raw.githubusercontent.com/rizki96/ds_challenge/master/requirements.txt (line 12)) (1.4.1)\n",
      "Requirement already satisfied: keras-applications>=1.0.6 in /home/rizki/workspace/venv/py36/lib/python3.6/site-packages (from keras->-r https://raw.githubusercontent.com/rizki96/ds_challenge/master/requirements.txt (line 13)) (1.0.8)\n",
      "Requirement already satisfied: keras-preprocessing>=1.0.5 in /home/rizki/workspace/venv/py36/lib/python3.6/site-packages (from keras->-r https://raw.githubusercontent.com/rizki96/ds_challenge/master/requirements.txt (line 13)) (1.1.0)\n",
      "Requirement already satisfied: pyyaml in /home/rizki/workspace/venv/py36/lib/python3.6/site-packages (from keras->-r https://raw.githubusercontent.com/rizki96/ds_challenge/master/requirements.txt (line 13)) (5.1.1)\n",
      "Requirement already satisfied: six>=1.9.0 in /home/rizki/workspace/venv/py36/lib/python3.6/site-packages (from keras->-r https://raw.githubusercontent.com/rizki96/ds_challenge/master/requirements.txt (line 13)) (1.12.0)\n",
      "Requirement already satisfied: h5py in /home/rizki/workspace/venv/py36/lib/python3.6/site-packages (from keras->-r https://raw.githubusercontent.com/rizki96/ds_challenge/master/requirements.txt (line 13)) (2.9.0)\n",
      "Requirement already satisfied: astor>=0.6.0 in /home/rizki/workspace/venv/py36/lib/python3.6/site-packages (from tensorflow->-r https://raw.githubusercontent.com/rizki96/ds_challenge/master/requirements.txt (line 14)) (0.8.0)\n",
      "Requirement already satisfied: protobuf>=3.6.1 in /home/rizki/workspace/venv/py36/lib/python3.6/site-packages (from tensorflow->-r https://raw.githubusercontent.com/rizki96/ds_challenge/master/requirements.txt (line 14)) (3.8.0)\n",
      "Requirement already satisfied: tensorboard<1.14.0,>=1.13.0 in /home/rizki/workspace/venv/py36/lib/python3.6/site-packages (from tensorflow->-r https://raw.githubusercontent.com/rizki96/ds_challenge/master/requirements.txt (line 14)) (1.13.1)\n"
     ]
    },
    {
     "name": "stdout",
     "output_type": "stream",
     "text": [
      "Requirement already satisfied: tensorflow-estimator<1.14.0rc0,>=1.13.0 in /home/rizki/workspace/venv/py36/lib/python3.6/site-packages (from tensorflow->-r https://raw.githubusercontent.com/rizki96/ds_challenge/master/requirements.txt (line 14)) (1.13.0)\n",
      "Requirement already satisfied: gast>=0.2.0 in /home/rizki/workspace/venv/py36/lib/python3.6/site-packages (from tensorflow->-r https://raw.githubusercontent.com/rizki96/ds_challenge/master/requirements.txt (line 14)) (0.2.2)\n",
      "Requirement already satisfied: grpcio>=1.8.6 in /home/rizki/workspace/venv/py36/lib/python3.6/site-packages (from tensorflow->-r https://raw.githubusercontent.com/rizki96/ds_challenge/master/requirements.txt (line 14)) (1.21.1)\n",
      "Requirement already satisfied: wheel>=0.26 in /home/rizki/workspace/venv/py36/lib/python3.6/site-packages (from tensorflow->-r https://raw.githubusercontent.com/rizki96/ds_challenge/master/requirements.txt (line 14)) (0.33.4)\n",
      "Requirement already satisfied: absl-py>=0.1.6 in /home/rizki/workspace/venv/py36/lib/python3.6/site-packages (from tensorflow->-r https://raw.githubusercontent.com/rizki96/ds_challenge/master/requirements.txt (line 14)) (0.7.1)\n",
      "Requirement already satisfied: termcolor>=1.1.0 in /home/rizki/workspace/venv/py36/lib/python3.6/site-packages (from tensorflow->-r https://raw.githubusercontent.com/rizki96/ds_challenge/master/requirements.txt (line 14)) (1.1.0)\n",
      "Requirement already satisfied: jupyter-core in /home/rizki/workspace/venv/py36/lib/python3.6/site-packages (from qtconsole->jupyter->-r https://raw.githubusercontent.com/rizki96/ds_challenge/master/requirements.txt (line 1)) (4.4.0)\n",
      "Requirement already satisfied: jupyter-client>=4.1 in /home/rizki/workspace/venv/py36/lib/python3.6/site-packages (from qtconsole->jupyter->-r https://raw.githubusercontent.com/rizki96/ds_challenge/master/requirements.txt (line 1)) (5.2.4)\n",
      "Requirement already satisfied: traitlets in /home/rizki/workspace/venv/py36/lib/python3.6/site-packages (from qtconsole->jupyter->-r https://raw.githubusercontent.com/rizki96/ds_challenge/master/requirements.txt (line 1)) (4.3.2)\n",
      "Requirement already satisfied: pygments in /home/rizki/workspace/venv/py36/lib/python3.6/site-packages (from qtconsole->jupyter->-r https://raw.githubusercontent.com/rizki96/ds_challenge/master/requirements.txt (line 1)) (2.4.2)\n",
      "Requirement already satisfied: ipython-genutils in /home/rizki/workspace/venv/py36/lib/python3.6/site-packages (from qtconsole->jupyter->-r https://raw.githubusercontent.com/rizki96/ds_challenge/master/requirements.txt (line 1)) (0.2.0)\n",
      "Requirement already satisfied: ipython>=5.0.0 in /home/rizki/workspace/venv/py36/lib/python3.6/site-packages (from ipykernel->jupyter->-r https://raw.githubusercontent.com/rizki96/ds_challenge/master/requirements.txt (line 1)) (7.5.0)\n",
      "Requirement already satisfied: tornado>=4.2 in /home/rizki/workspace/venv/py36/lib/python3.6/site-packages (from ipykernel->jupyter->-r https://raw.githubusercontent.com/rizki96/ds_challenge/master/requirements.txt (line 1)) (6.0.2)\n",
      "Requirement already satisfied: bleach in /home/rizki/workspace/venv/py36/lib/python3.6/site-packages (from nbconvert->jupyter->-r https://raw.githubusercontent.com/rizki96/ds_challenge/master/requirements.txt (line 1)) (3.1.0)\n",
      "Requirement already satisfied: nbformat>=4.4 in /home/rizki/workspace/venv/py36/lib/python3.6/site-packages (from nbconvert->jupyter->-r https://raw.githubusercontent.com/rizki96/ds_challenge/master/requirements.txt (line 1)) (4.4.0)\n",
      "Requirement already satisfied: pandocfilters>=1.4.1 in /home/rizki/workspace/venv/py36/lib/python3.6/site-packages (from nbconvert->jupyter->-r https://raw.githubusercontent.com/rizki96/ds_challenge/master/requirements.txt (line 1)) (1.4.2)\n",
      "Requirement already satisfied: defusedxml in /home/rizki/workspace/venv/py36/lib/python3.6/site-packages (from nbconvert->jupyter->-r https://raw.githubusercontent.com/rizki96/ds_challenge/master/requirements.txt (line 1)) (0.6.0)\n",
      "Requirement already satisfied: mistune>=0.8.1 in /home/rizki/workspace/venv/py36/lib/python3.6/site-packages (from nbconvert->jupyter->-r https://raw.githubusercontent.com/rizki96/ds_challenge/master/requirements.txt (line 1)) (0.8.4)\n",
      "Requirement already satisfied: entrypoints>=0.2.2 in /home/rizki/workspace/venv/py36/lib/python3.6/site-packages (from nbconvert->jupyter->-r https://raw.githubusercontent.com/rizki96/ds_challenge/master/requirements.txt (line 1)) (0.3)\n",
      "Requirement already satisfied: testpath in /home/rizki/workspace/venv/py36/lib/python3.6/site-packages (from nbconvert->jupyter->-r https://raw.githubusercontent.com/rizki96/ds_challenge/master/requirements.txt (line 1)) (0.4.2)\n",
      "Requirement already satisfied: jinja2>=2.4 in /home/rizki/workspace/venv/py36/lib/python3.6/site-packages (from nbconvert->jupyter->-r https://raw.githubusercontent.com/rizki96/ds_challenge/master/requirements.txt (line 1)) (2.10.1)\n",
      "Requirement already satisfied: pyzmq>=17 in /home/rizki/workspace/venv/py36/lib/python3.6/site-packages (from notebook->jupyter->-r https://raw.githubusercontent.com/rizki96/ds_challenge/master/requirements.txt (line 1)) (18.0.1)\n",
      "Requirement already satisfied: terminado>=0.8.1 in /home/rizki/workspace/venv/py36/lib/python3.6/site-packages (from notebook->jupyter->-r https://raw.githubusercontent.com/rizki96/ds_challenge/master/requirements.txt (line 1)) (0.8.2)\n",
      "Requirement already satisfied: Send2Trash in /home/rizki/workspace/venv/py36/lib/python3.6/site-packages (from notebook->jupyter->-r https://raw.githubusercontent.com/rizki96/ds_challenge/master/requirements.txt (line 1)) (1.5.0)\n",
      "Requirement already satisfied: prometheus-client in /home/rizki/workspace/venv/py36/lib/python3.6/site-packages (from notebook->jupyter->-r https://raw.githubusercontent.com/rizki96/ds_challenge/master/requirements.txt (line 1)) (0.7.0)\n",
      "Requirement already satisfied: widgetsnbextension~=3.4.0 in /home/rizki/workspace/venv/py36/lib/python3.6/site-packages (from ipywidgets->jupyter->-r https://raw.githubusercontent.com/rizki96/ds_challenge/master/requirements.txt (line 1)) (3.4.2)\n",
      "Requirement already satisfied: prompt-toolkit<2.1.0,>=2.0.0 in /home/rizki/workspace/venv/py36/lib/python3.6/site-packages (from jupyter-console->jupyter->-r https://raw.githubusercontent.com/rizki96/ds_challenge/master/requirements.txt (line 1)) (2.0.9)\n",
      "Requirement already satisfied: setuptools in /home/rizki/workspace/venv/py36/lib/python3.6/site-packages (from kiwisolver>=1.0.1->matplotlib->-r https://raw.githubusercontent.com/rizki96/ds_challenge/master/requirements.txt (line 7)) (41.0.1)\n",
      "Requirement already satisfied: dataclasses>=0.6; python_version < \"3.7\" in /home/rizki/workspace/venv/py36/lib/python3.6/site-packages (from pydantic==0.28.*->gluonts->-r https://raw.githubusercontent.com/rizki96/ds_challenge/master/requirements.txt (line 12)) (0.6)\n",
      "Requirement already satisfied: jmespath<1.0.0,>=0.7.1 in /home/rizki/workspace/venv/py36/lib/python3.6/site-packages (from boto3==1.*->gluonts->-r https://raw.githubusercontent.com/rizki96/ds_challenge/master/requirements.txt (line 12)) (0.9.4)\n",
      "Requirement already satisfied: botocore<1.13.0,>=1.12.169 in /home/rizki/workspace/venv/py36/lib/python3.6/site-packages (from boto3==1.*->gluonts->-r https://raw.githubusercontent.com/rizki96/ds_challenge/master/requirements.txt (line 12)) (1.12.169)\n",
      "Requirement already satisfied: s3transfer<0.3.0,>=0.2.0 in /home/rizki/workspace/venv/py36/lib/python3.6/site-packages (from boto3==1.*->gluonts->-r https://raw.githubusercontent.com/rizki96/ds_challenge/master/requirements.txt (line 12)) (0.2.1)\n",
      "Requirement already satisfied: graphviz<0.9.0,>=0.8.1 in /home/rizki/workspace/venv/py36/lib/python3.6/site-packages (from mxnet>=1.3.1->gluonts->-r https://raw.githubusercontent.com/rizki96/ds_challenge/master/requirements.txt (line 12)) (0.8.4)\n",
      "Requirement already satisfied: werkzeug>=0.11.15 in /home/rizki/workspace/venv/py36/lib/python3.6/site-packages (from tensorboard<1.14.0,>=1.13.0->tensorflow->-r https://raw.githubusercontent.com/rizki96/ds_challenge/master/requirements.txt (line 14)) (0.15.4)\n",
      "Requirement already satisfied: markdown>=2.6.8 in /home/rizki/workspace/venv/py36/lib/python3.6/site-packages (from tensorboard<1.14.0,>=1.13.0->tensorflow->-r https://raw.githubusercontent.com/rizki96/ds_challenge/master/requirements.txt (line 14)) (3.1.1)\n",
      "Requirement already satisfied: mock>=2.0.0 in /home/rizki/workspace/venv/py36/lib/python3.6/site-packages (from tensorflow-estimator<1.14.0rc0,>=1.13.0->tensorflow->-r https://raw.githubusercontent.com/rizki96/ds_challenge/master/requirements.txt (line 14)) (3.0.5)\n",
      "Requirement already satisfied: decorator in /home/rizki/workspace/venv/py36/lib/python3.6/site-packages (from traitlets->qtconsole->jupyter->-r https://raw.githubusercontent.com/rizki96/ds_challenge/master/requirements.txt (line 1)) (4.4.0)\n",
      "Requirement already satisfied: pickleshare in /home/rizki/workspace/venv/py36/lib/python3.6/site-packages (from ipython>=5.0.0->ipykernel->jupyter->-r https://raw.githubusercontent.com/rizki96/ds_challenge/master/requirements.txt (line 1)) (0.7.5)\n",
      "Requirement already satisfied: backcall in /home/rizki/workspace/venv/py36/lib/python3.6/site-packages (from ipython>=5.0.0->ipykernel->jupyter->-r https://raw.githubusercontent.com/rizki96/ds_challenge/master/requirements.txt (line 1)) (0.1.0)\n",
      "Requirement already satisfied: jedi>=0.10 in /home/rizki/workspace/venv/py36/lib/python3.6/site-packages (from ipython>=5.0.0->ipykernel->jupyter->-r https://raw.githubusercontent.com/rizki96/ds_challenge/master/requirements.txt (line 1)) (0.13.3)\n",
      "Requirement already satisfied: pexpect; sys_platform != \"win32\" in /home/rizki/workspace/venv/py36/lib/python3.6/site-packages (from ipython>=5.0.0->ipykernel->jupyter->-r https://raw.githubusercontent.com/rizki96/ds_challenge/master/requirements.txt (line 1)) (4.7.0)\n",
      "Requirement already satisfied: webencodings in /home/rizki/workspace/venv/py36/lib/python3.6/site-packages (from bleach->nbconvert->jupyter->-r https://raw.githubusercontent.com/rizki96/ds_challenge/master/requirements.txt (line 1)) (0.5.1)\n",
      "Requirement already satisfied: jsonschema!=2.5.0,>=2.4 in /home/rizki/workspace/venv/py36/lib/python3.6/site-packages (from nbformat>=4.4->nbconvert->jupyter->-r https://raw.githubusercontent.com/rizki96/ds_challenge/master/requirements.txt (line 1)) (3.0.1)\n"
     ]
    },
    {
     "name": "stdout",
     "output_type": "stream",
     "text": [
      "Requirement already satisfied: MarkupSafe>=0.23 in /home/rizki/workspace/venv/py36/lib/python3.6/site-packages (from jinja2>=2.4->nbconvert->jupyter->-r https://raw.githubusercontent.com/rizki96/ds_challenge/master/requirements.txt (line 1)) (1.1.1)\n",
      "Requirement already satisfied: ptyprocess; os_name != \"nt\" in /home/rizki/workspace/venv/py36/lib/python3.6/site-packages (from terminado>=0.8.1->notebook->jupyter->-r https://raw.githubusercontent.com/rizki96/ds_challenge/master/requirements.txt (line 1)) (0.6.0)\n",
      "Requirement already satisfied: wcwidth in /home/rizki/workspace/venv/py36/lib/python3.6/site-packages (from prompt-toolkit<2.1.0,>=2.0.0->jupyter-console->jupyter->-r https://raw.githubusercontent.com/rizki96/ds_challenge/master/requirements.txt (line 1)) (0.1.7)\n",
      "Requirement already satisfied: docutils>=0.10 in /home/rizki/workspace/venv/py36/lib/python3.6/site-packages (from botocore<1.13.0,>=1.12.169->boto3==1.*->gluonts->-r https://raw.githubusercontent.com/rizki96/ds_challenge/master/requirements.txt (line 12)) (0.14)\n",
      "Requirement already satisfied: parso>=0.3.0 in /home/rizki/workspace/venv/py36/lib/python3.6/site-packages (from jedi>=0.10->ipython>=5.0.0->ipykernel->jupyter->-r https://raw.githubusercontent.com/rizki96/ds_challenge/master/requirements.txt (line 1)) (0.4.0)\n",
      "Requirement already satisfied: attrs>=17.4.0 in /home/rizki/workspace/venv/py36/lib/python3.6/site-packages (from jsonschema!=2.5.0,>=2.4->nbformat>=4.4->nbconvert->jupyter->-r https://raw.githubusercontent.com/rizki96/ds_challenge/master/requirements.txt (line 1)) (19.1.0)\n",
      "Requirement already satisfied: pyrsistent>=0.14.0 in /home/rizki/workspace/venv/py36/lib/python3.6/site-packages (from jsonschema!=2.5.0,>=2.4->nbformat>=4.4->nbconvert->jupyter->-r https://raw.githubusercontent.com/rizki96/ds_challenge/master/requirements.txt (line 1)) (0.15.2)\n",
      "Note: you may need to restart the kernel to use updated packages.\n"
     ]
    }
   ],
   "source": [
    "pip install -r https://raw.githubusercontent.com/rizki96/ds_challenge/master/requirements.txt"
   ]
  },
  {
   "cell_type": "code",
   "execution_count": 2,
   "metadata": {},
   "outputs": [
    {
     "name": "stderr",
     "output_type": "stream",
     "text": [
      "Using TensorFlow backend.\n"
     ]
    }
   ],
   "source": [
    "import io\n",
    "import bz2\n",
    "import pandas as pd\n",
    "import numpy as np\n",
    "import geohash\n",
    "import time\n",
    "import datetime\n",
    "import pprint\n",
    "import matplotlib.pyplot as plt\n",
    "import matplotlib.patches as mpatches\n",
    "import seaborn as sns\n",
    "import requests\n",
    "from math import ceil\n",
    "from math import sin, cos, sqrt, atan2, radians\n",
    "from sklearn import preprocessing\n",
    "from sklearn.cluster import DBSCAN\n",
    "from sklearn.cluster import OPTICS\n",
    "from shapely.geometry import MultiPoint\n",
    "from geopy.distance import great_circle\n",
    "from pandas.plotting import register_matplotlib_converters\n",
    "from collections import OrderedDict\n",
    "from itertools import islice\n",
    "from keras.models import load_model\n",
    "\n",
    "register_matplotlib_converters()"
   ]
  },
  {
   "cell_type": "code",
   "execution_count": 3,
   "metadata": {},
   "outputs": [],
   "source": [
    "# load data traffic\n",
    "\n",
    "trf_df = pd.read_csv('training.csv.bz2', compression='bz2', header=0, sep=',', quotechar='\"') # from local data file\n",
    "\n",
    "#url=\"https://github.com/rizki96/ds_challenge/blob/master/Traffic%20Management/training.csv.bz2?raw=true\"\n",
    "#s=requests.get(url).content\n",
    "#data = bz2.decompress(s)\n",
    "#trf_df = pd.read_csv(io.BytesIO(data), header=0, sep=',', quotechar='\"') # from remote data file\n",
    "\n",
    "trf_df_sort = trf_df.sort_values(by=['day', 'timestamp'])"
   ]
  },
  {
   "cell_type": "code",
   "execution_count": 4,
   "metadata": {},
   "outputs": [],
   "source": [
    "initial_day = 1\n",
    "num_of_days = 14\n",
    "range_btwn_pts = 1 # in km\n",
    "min_samples = 1\n",
    "trf_week1 = pd.DataFrame(trf_df_sort[(trf_df_sort.day >= initial_day) & (trf_df_sort.day < (initial_day + num_of_days))])"
   ]
  },
  {
   "cell_type": "code",
   "execution_count": 5,
   "metadata": {},
   "outputs": [],
   "source": [
    "trf_week1.loc[:, 'latlon'] = trf_week1.geohash6.map(lambda x: geohash.decode(x))\n",
    "trf_week1['lat'] = [ll[0][0] for ll in trf_week1[['latlon']].values]\n",
    "trf_week1['lon'] = [ll[0][1] for ll in trf_week1[['latlon']].values]\n",
    "coords = trf_week1[['lat', 'lon']].values"
   ]
  },
  {
   "cell_type": "code",
   "execution_count": null,
   "metadata": {},
   "outputs": [],
   "source": [
    "# TODO: change the cluster method to OPTICS\n",
    "start_time = time.time()\n",
    "kms_per_radian = 6371.0088\n",
    "epsilon = range_btwn_pts / kms_per_radian\n",
    "db = DBSCAN(eps=epsilon, min_samples=min_samples, algorithm='ball_tree', metric='haversine').fit(np.radians(coords))\n",
    "cluster_labels = db.labels_\n",
    "num_clusters = len(set(cluster_labels))\n",
    "# mark as -1 for outliers\n",
    "clusters = pd.Series([coords[cluster_labels == n] for n in range(-1, num_clusters) if coords[cluster_labels == n].any()])\n",
    "#clusters = pd.Series([coords[cluster_labels == n] for n in range(num_clusters) if coords[cluster_labels == n].any()])\n",
    "#num_clusters = len(clusters)\n",
    "elapsed_time = time.time() - start_time\n",
    "print('Time taken to cluster: {} secs'.format(elapsed_time))\n",
    "print('Number of day {} to day {} clusters: {}'.format(day_ids[0], day_ids[-1], num_clusters))\n",
    "clusters"
   ]
  },
  {
   "cell_type": "code",
   "execution_count": null,
   "metadata": {},
   "outputs": [],
   "source": [
    "# build the cluster\n",
    "\n",
    "# save the cluster into db\n",
    "\n",
    "# visualize the cluster\n",
    "\n",
    "# using model created for weekly prediction\n",
    "\n",
    "# visualize the high demand cluster\n"
   ]
  }
 ],
 "metadata": {
  "kernelspec": {
   "display_name": "Python 3",
   "language": "python",
   "name": "python3"
  },
  "language_info": {
   "codemirror_mode": {
    "name": "ipython",
    "version": 3
   },
   "file_extension": ".py",
   "mimetype": "text/x-python",
   "name": "python",
   "nbconvert_exporter": "python",
   "pygments_lexer": "ipython3",
   "version": "3.6.8"
  }
 },
 "nbformat": 4,
 "nbformat_minor": 2
}
