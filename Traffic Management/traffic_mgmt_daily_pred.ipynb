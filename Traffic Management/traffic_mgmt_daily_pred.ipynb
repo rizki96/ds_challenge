{
 "cells": [
  {
   "cell_type": "code",
   "execution_count": 1,
   "metadata": {},
   "outputs": [
    {
     "name": "stdout",
     "output_type": "stream",
     "text": [
      "Requirement already satisfied: jupyter in /home/rizki/.asdf/installs/python/3.6.7/lib/python3.6/site-packages (from -r https://raw.githubusercontent.com/rizki96/ds_challenge/master/requirements.txt (line 1)) (1.0.0)\n",
      "Requirement already satisfied: pandas in /home/rizki/.asdf/installs/python/3.6.7/lib/python3.6/site-packages (from -r https://raw.githubusercontent.com/rizki96/ds_challenge/master/requirements.txt (line 2)) (0.24.2)\n",
      "Requirement already satisfied: numpy in /home/rizki/.asdf/installs/python/3.6.7/lib/python3.6/site-packages (from -r https://raw.githubusercontent.com/rizki96/ds_challenge/master/requirements.txt (line 3)) (1.14.6)\n",
      "Requirement already satisfied: requests in /home/rizki/.asdf/installs/python/3.6.7/lib/python3.6/site-packages (from -r https://raw.githubusercontent.com/rizki96/ds_challenge/master/requirements.txt (line 4)) (2.22.0)\n",
      "Requirement already satisfied: python-geohash in /home/rizki/.asdf/installs/python/3.6.7/lib/python3.6/site-packages (from -r https://raw.githubusercontent.com/rizki96/ds_challenge/master/requirements.txt (line 5)) (0.8.5)\n",
      "Requirement already satisfied: seaborn in /home/rizki/.asdf/installs/python/3.6.7/lib/python3.6/site-packages (from -r https://raw.githubusercontent.com/rizki96/ds_challenge/master/requirements.txt (line 6)) (0.9.0)\n",
      "Requirement already satisfied: matplotlib in /home/rizki/.asdf/installs/python/3.6.7/lib/python3.6/site-packages (from -r https://raw.githubusercontent.com/rizki96/ds_challenge/master/requirements.txt (line 7)) (3.1.0)\n",
      "Requirement already satisfied: scikit-learn in /home/rizki/.asdf/installs/python/3.6.7/lib/python3.6/site-packages (from -r https://raw.githubusercontent.com/rizki96/ds_challenge/master/requirements.txt (line 8)) (0.21.2)\n",
      "Requirement already satisfied: shapely in /home/rizki/.asdf/installs/python/3.6.7/lib/python3.6/site-packages (from -r https://raw.githubusercontent.com/rizki96/ds_challenge/master/requirements.txt (line 9)) (1.6.4.post2)\n",
      "Requirement already satisfied: geopy in /home/rizki/.asdf/installs/python/3.6.7/lib/python3.6/site-packages (from -r https://raw.githubusercontent.com/rizki96/ds_challenge/master/requirements.txt (line 10)) (1.20.0)\n",
      "Requirement already satisfied: pystan in /home/rizki/.asdf/installs/python/3.6.7/lib/python3.6/site-packages (from -r https://raw.githubusercontent.com/rizki96/ds_challenge/master/requirements.txt (line 11)) (2.19.0.0)\n",
      "Requirement already satisfied: gluonts in /home/rizki/.asdf/installs/python/3.6.7/lib/python3.6/site-packages (from -r https://raw.githubusercontent.com/rizki96/ds_challenge/master/requirements.txt (line 12)) (0.1.2)\n",
      "Requirement already satisfied: keras in /home/rizki/.asdf/installs/python/3.6.7/lib/python3.6/site-packages (from -r https://raw.githubusercontent.com/rizki96/ds_challenge/master/requirements.txt (line 13)) (2.2.4)\n",
      "Requirement already satisfied: tensorflow in /home/rizki/.asdf/installs/python/3.6.7/lib/python3.6/site-packages (from -r https://raw.githubusercontent.com/rizki96/ds_challenge/master/requirements.txt (line 14)) (1.13.1)\n",
      "Requirement already satisfied: jupyter-console in /home/rizki/.asdf/installs/python/3.6.7/lib/python3.6/site-packages (from jupyter->-r https://raw.githubusercontent.com/rizki96/ds_challenge/master/requirements.txt (line 1)) (6.0.0)\n",
      "Requirement already satisfied: ipykernel in /home/rizki/.asdf/installs/python/3.6.7/lib/python3.6/site-packages (from jupyter->-r https://raw.githubusercontent.com/rizki96/ds_challenge/master/requirements.txt (line 1)) (5.1.1)\n",
      "Requirement already satisfied: ipywidgets in /home/rizki/.asdf/installs/python/3.6.7/lib/python3.6/site-packages (from jupyter->-r https://raw.githubusercontent.com/rizki96/ds_challenge/master/requirements.txt (line 1)) (7.4.2)\n",
      "Requirement already satisfied: qtconsole in /home/rizki/.asdf/installs/python/3.6.7/lib/python3.6/site-packages (from jupyter->-r https://raw.githubusercontent.com/rizki96/ds_challenge/master/requirements.txt (line 1)) (4.5.1)\n",
      "Requirement already satisfied: nbconvert in /home/rizki/.asdf/installs/python/3.6.7/lib/python3.6/site-packages (from jupyter->-r https://raw.githubusercontent.com/rizki96/ds_challenge/master/requirements.txt (line 1)) (5.5.0)\n",
      "Requirement already satisfied: notebook in /home/rizki/.asdf/installs/python/3.6.7/lib/python3.6/site-packages (from jupyter->-r https://raw.githubusercontent.com/rizki96/ds_challenge/master/requirements.txt (line 1)) (5.7.8)\n",
      "Requirement already satisfied: pytz>=2011k in /home/rizki/.asdf/installs/python/3.6.7/lib/python3.6/site-packages (from pandas->-r https://raw.githubusercontent.com/rizki96/ds_challenge/master/requirements.txt (line 2)) (2019.1)\n",
      "Requirement already satisfied: python-dateutil>=2.5.0 in /home/rizki/.asdf/installs/python/3.6.7/lib/python3.6/site-packages (from pandas->-r https://raw.githubusercontent.com/rizki96/ds_challenge/master/requirements.txt (line 2)) (2.8.0)\n",
      "Requirement already satisfied: idna<2.9,>=2.5 in /home/rizki/.asdf/installs/python/3.6.7/lib/python3.6/site-packages (from requests->-r https://raw.githubusercontent.com/rizki96/ds_challenge/master/requirements.txt (line 4)) (2.8)\n",
      "Requirement already satisfied: certifi>=2017.4.17 in /home/rizki/.asdf/installs/python/3.6.7/lib/python3.6/site-packages (from requests->-r https://raw.githubusercontent.com/rizki96/ds_challenge/master/requirements.txt (line 4)) (2019.3.9)\n",
      "Requirement already satisfied: urllib3!=1.25.0,!=1.25.1,<1.26,>=1.21.1 in /home/rizki/.asdf/installs/python/3.6.7/lib/python3.6/site-packages (from requests->-r https://raw.githubusercontent.com/rizki96/ds_challenge/master/requirements.txt (line 4)) (1.25.3)\n",
      "Requirement already satisfied: chardet<3.1.0,>=3.0.2 in /home/rizki/.asdf/installs/python/3.6.7/lib/python3.6/site-packages (from requests->-r https://raw.githubusercontent.com/rizki96/ds_challenge/master/requirements.txt (line 4)) (3.0.4)\n",
      "Requirement already satisfied: scipy>=0.14.0 in /home/rizki/.asdf/installs/python/3.6.7/lib/python3.6/site-packages (from seaborn->-r https://raw.githubusercontent.com/rizki96/ds_challenge/master/requirements.txt (line 6)) (1.3.0)\n",
      "Requirement already satisfied: cycler>=0.10 in /home/rizki/.asdf/installs/python/3.6.7/lib/python3.6/site-packages (from matplotlib->-r https://raw.githubusercontent.com/rizki96/ds_challenge/master/requirements.txt (line 7)) (0.10.0)\n",
      "Requirement already satisfied: kiwisolver>=1.0.1 in /home/rizki/.asdf/installs/python/3.6.7/lib/python3.6/site-packages (from matplotlib->-r https://raw.githubusercontent.com/rizki96/ds_challenge/master/requirements.txt (line 7)) (1.1.0)\n",
      "Requirement already satisfied: pyparsing!=2.0.4,!=2.1.2,!=2.1.6,>=2.0.1 in /home/rizki/.asdf/installs/python/3.6.7/lib/python3.6/site-packages (from matplotlib->-r https://raw.githubusercontent.com/rizki96/ds_challenge/master/requirements.txt (line 7)) (2.4.0)\n",
      "Requirement already satisfied: joblib>=0.11 in /home/rizki/.asdf/installs/python/3.6.7/lib/python3.6/site-packages (from scikit-learn->-r https://raw.githubusercontent.com/rizki96/ds_challenge/master/requirements.txt (line 8)) (0.13.2)\n",
      "Requirement already satisfied: geographiclib<2,>=1.49 in /home/rizki/.asdf/installs/python/3.6.7/lib/python3.6/site-packages (from geopy->-r https://raw.githubusercontent.com/rizki96/ds_challenge/master/requirements.txt (line 10)) (1.49)\n",
      "Requirement already satisfied: Cython!=0.25.1,>=0.22 in /home/rizki/.asdf/installs/python/3.6.7/lib/python3.6/site-packages (from pystan->-r https://raw.githubusercontent.com/rizki96/ds_challenge/master/requirements.txt (line 11)) (0.29.10)\n",
      "Requirement already satisfied: mxnet>=1.3.0 in /home/rizki/.asdf/installs/python/3.6.7/lib/python3.6/site-packages (from gluonts->-r https://raw.githubusercontent.com/rizki96/ds_challenge/master/requirements.txt (line 12)) (1.4.1)\n",
      "Requirement already satisfied: holidays==0.9.* in /home/rizki/.asdf/installs/python/3.6.7/lib/python3.6/site-packages (from gluonts->-r https://raw.githubusercontent.com/rizki96/ds_challenge/master/requirements.txt (line 12)) (0.9.10)\n",
      "Requirement already satisfied: pydantic==0.12.* in /home/rizki/.asdf/installs/python/3.6.7/lib/python3.6/site-packages (from gluonts->-r https://raw.githubusercontent.com/rizki96/ds_challenge/master/requirements.txt (line 12)) (0.12.1)\n",
      "Requirement already satisfied: ujson>=1.35 in /home/rizki/.asdf/installs/python/3.6.7/lib/python3.6/site-packages (from gluonts->-r https://raw.githubusercontent.com/rizki96/ds_challenge/master/requirements.txt (line 12)) (1.35)\n",
      "Requirement already satisfied: tqdm>=4.23.0 in /home/rizki/.asdf/installs/python/3.6.7/lib/python3.6/site-packages (from gluonts->-r https://raw.githubusercontent.com/rizki96/ds_challenge/master/requirements.txt (line 12)) (4.32.1)\n",
      "Requirement already satisfied: boto3==1.* in /home/rizki/.asdf/installs/python/3.6.7/lib/python3.6/site-packages (from gluonts->-r https://raw.githubusercontent.com/rizki96/ds_challenge/master/requirements.txt (line 12)) (1.9.164)\n",
      "Requirement already satisfied: keras-applications>=1.0.6 in /home/rizki/.asdf/installs/python/3.6.7/lib/python3.6/site-packages (from keras->-r https://raw.githubusercontent.com/rizki96/ds_challenge/master/requirements.txt (line 13)) (1.0.8)\n",
      "Requirement already satisfied: pyyaml in /home/rizki/.asdf/installs/python/3.6.7/lib/python3.6/site-packages (from keras->-r https://raw.githubusercontent.com/rizki96/ds_challenge/master/requirements.txt (line 13)) (5.1.1)\n",
      "Requirement already satisfied: keras-preprocessing>=1.0.5 in /home/rizki/.asdf/installs/python/3.6.7/lib/python3.6/site-packages (from keras->-r https://raw.githubusercontent.com/rizki96/ds_challenge/master/requirements.txt (line 13)) (1.1.0)\n"
     ]
    },
    {
     "name": "stdout",
     "output_type": "stream",
     "text": [
      "Requirement already satisfied: six>=1.9.0 in /home/rizki/.local/lib/python3.6/site-packages (from keras->-r https://raw.githubusercontent.com/rizki96/ds_challenge/master/requirements.txt (line 13)) (1.11.0)\n",
      "Requirement already satisfied: h5py in /home/rizki/.asdf/installs/python/3.6.7/lib/python3.6/site-packages (from keras->-r https://raw.githubusercontent.com/rizki96/ds_challenge/master/requirements.txt (line 13)) (2.9.0)\n",
      "Requirement already satisfied: protobuf>=3.6.1 in /home/rizki/.asdf/installs/python/3.6.7/lib/python3.6/site-packages (from tensorflow->-r https://raw.githubusercontent.com/rizki96/ds_challenge/master/requirements.txt (line 14)) (3.8.0)\n",
      "Requirement already satisfied: gast>=0.2.0 in /home/rizki/.asdf/installs/python/3.6.7/lib/python3.6/site-packages (from tensorflow->-r https://raw.githubusercontent.com/rizki96/ds_challenge/master/requirements.txt (line 14)) (0.2.2)\n",
      "Requirement already satisfied: tensorboard<1.14.0,>=1.13.0 in /home/rizki/.asdf/installs/python/3.6.7/lib/python3.6/site-packages (from tensorflow->-r https://raw.githubusercontent.com/rizki96/ds_challenge/master/requirements.txt (line 14)) (1.13.1)\n",
      "Requirement already satisfied: wheel>=0.26 in /home/rizki/.asdf/installs/python/3.6.7/lib/python3.6/site-packages (from tensorflow->-r https://raw.githubusercontent.com/rizki96/ds_challenge/master/requirements.txt (line 14)) (0.33.4)\n",
      "Requirement already satisfied: astor>=0.6.0 in /home/rizki/.asdf/installs/python/3.6.7/lib/python3.6/site-packages (from tensorflow->-r https://raw.githubusercontent.com/rizki96/ds_challenge/master/requirements.txt (line 14)) (0.8.0)\n",
      "Requirement already satisfied: tensorflow-estimator<1.14.0rc0,>=1.13.0 in /home/rizki/.asdf/installs/python/3.6.7/lib/python3.6/site-packages (from tensorflow->-r https://raw.githubusercontent.com/rizki96/ds_challenge/master/requirements.txt (line 14)) (1.13.0)\n",
      "Requirement already satisfied: termcolor>=1.1.0 in /home/rizki/.asdf/installs/python/3.6.7/lib/python3.6/site-packages (from tensorflow->-r https://raw.githubusercontent.com/rizki96/ds_challenge/master/requirements.txt (line 14)) (1.1.0)\n",
      "Requirement already satisfied: absl-py>=0.1.6 in /home/rizki/.asdf/installs/python/3.6.7/lib/python3.6/site-packages (from tensorflow->-r https://raw.githubusercontent.com/rizki96/ds_challenge/master/requirements.txt (line 14)) (0.7.1)\n",
      "Requirement already satisfied: grpcio>=1.8.6 in /home/rizki/.asdf/installs/python/3.6.7/lib/python3.6/site-packages (from tensorflow->-r https://raw.githubusercontent.com/rizki96/ds_challenge/master/requirements.txt (line 14)) (1.21.1)\n",
      "Requirement already satisfied: jupyter-client in /home/rizki/.asdf/installs/python/3.6.7/lib/python3.6/site-packages (from jupyter-console->jupyter->-r https://raw.githubusercontent.com/rizki96/ds_challenge/master/requirements.txt (line 1)) (5.2.4)\n",
      "Requirement already satisfied: ipython in /home/rizki/.asdf/installs/python/3.6.7/lib/python3.6/site-packages (from jupyter-console->jupyter->-r https://raw.githubusercontent.com/rizki96/ds_challenge/master/requirements.txt (line 1)) (7.5.0)\n",
      "Requirement already satisfied: prompt-toolkit<2.1.0,>=2.0.0 in /home/rizki/.asdf/installs/python/3.6.7/lib/python3.6/site-packages (from jupyter-console->jupyter->-r https://raw.githubusercontent.com/rizki96/ds_challenge/master/requirements.txt (line 1)) (2.0.9)\n",
      "Requirement already satisfied: pygments in /home/rizki/.asdf/installs/python/3.6.7/lib/python3.6/site-packages (from jupyter-console->jupyter->-r https://raw.githubusercontent.com/rizki96/ds_challenge/master/requirements.txt (line 1)) (2.4.2)\n",
      "Requirement already satisfied: tornado>=4.2 in /home/rizki/.asdf/installs/python/3.6.7/lib/python3.6/site-packages (from ipykernel->jupyter->-r https://raw.githubusercontent.com/rizki96/ds_challenge/master/requirements.txt (line 1)) (6.0.2)\n",
      "Requirement already satisfied: traitlets>=4.1.0 in /home/rizki/.asdf/installs/python/3.6.7/lib/python3.6/site-packages (from ipykernel->jupyter->-r https://raw.githubusercontent.com/rizki96/ds_challenge/master/requirements.txt (line 1)) (4.3.2)\n",
      "Requirement already satisfied: widgetsnbextension~=3.4.0 in /home/rizki/.asdf/installs/python/3.6.7/lib/python3.6/site-packages (from ipywidgets->jupyter->-r https://raw.githubusercontent.com/rizki96/ds_challenge/master/requirements.txt (line 1)) (3.4.2)\n",
      "Requirement already satisfied: nbformat>=4.2.0 in /home/rizki/.asdf/installs/python/3.6.7/lib/python3.6/site-packages (from ipywidgets->jupyter->-r https://raw.githubusercontent.com/rizki96/ds_challenge/master/requirements.txt (line 1)) (4.4.0)\n",
      "Requirement already satisfied: ipython-genutils in /home/rizki/.asdf/installs/python/3.6.7/lib/python3.6/site-packages (from qtconsole->jupyter->-r https://raw.githubusercontent.com/rizki96/ds_challenge/master/requirements.txt (line 1)) (0.2.0)\n",
      "Requirement already satisfied: jupyter-core in /home/rizki/.asdf/installs/python/3.6.7/lib/python3.6/site-packages (from qtconsole->jupyter->-r https://raw.githubusercontent.com/rizki96/ds_challenge/master/requirements.txt (line 1)) (4.4.0)\n",
      "Requirement already satisfied: bleach in /home/rizki/.asdf/installs/python/3.6.7/lib/python3.6/site-packages (from nbconvert->jupyter->-r https://raw.githubusercontent.com/rizki96/ds_challenge/master/requirements.txt (line 1)) (3.1.0)\n",
      "Requirement already satisfied: mistune>=0.8.1 in /home/rizki/.asdf/installs/python/3.6.7/lib/python3.6/site-packages (from nbconvert->jupyter->-r https://raw.githubusercontent.com/rizki96/ds_challenge/master/requirements.txt (line 1)) (0.8.4)\n",
      "Requirement already satisfied: entrypoints>=0.2.2 in /home/rizki/.asdf/installs/python/3.6.7/lib/python3.6/site-packages (from nbconvert->jupyter->-r https://raw.githubusercontent.com/rizki96/ds_challenge/master/requirements.txt (line 1)) (0.3)\n",
      "Requirement already satisfied: testpath in /home/rizki/.asdf/installs/python/3.6.7/lib/python3.6/site-packages (from nbconvert->jupyter->-r https://raw.githubusercontent.com/rizki96/ds_challenge/master/requirements.txt (line 1)) (0.4.2)\n",
      "Requirement already satisfied: jinja2>=2.4 in /home/rizki/.asdf/installs/python/3.6.7/lib/python3.6/site-packages (from nbconvert->jupyter->-r https://raw.githubusercontent.com/rizki96/ds_challenge/master/requirements.txt (line 1)) (2.10.1)\n",
      "Requirement already satisfied: pandocfilters>=1.4.1 in /home/rizki/.asdf/installs/python/3.6.7/lib/python3.6/site-packages (from nbconvert->jupyter->-r https://raw.githubusercontent.com/rizki96/ds_challenge/master/requirements.txt (line 1)) (1.4.2)\n",
      "Requirement already satisfied: defusedxml in /home/rizki/.asdf/installs/python/3.6.7/lib/python3.6/site-packages (from nbconvert->jupyter->-r https://raw.githubusercontent.com/rizki96/ds_challenge/master/requirements.txt (line 1)) (0.6.0)\n",
      "Requirement already satisfied: pyzmq>=17 in /home/rizki/.asdf/installs/python/3.6.7/lib/python3.6/site-packages (from notebook->jupyter->-r https://raw.githubusercontent.com/rizki96/ds_challenge/master/requirements.txt (line 1)) (18.0.1)\n",
      "Requirement already satisfied: terminado>=0.8.1 in /home/rizki/.asdf/installs/python/3.6.7/lib/python3.6/site-packages (from notebook->jupyter->-r https://raw.githubusercontent.com/rizki96/ds_challenge/master/requirements.txt (line 1)) (0.8.2)\n",
      "Requirement already satisfied: Send2Trash in /home/rizki/.asdf/installs/python/3.6.7/lib/python3.6/site-packages (from notebook->jupyter->-r https://raw.githubusercontent.com/rizki96/ds_challenge/master/requirements.txt (line 1)) (1.5.0)\n",
      "Requirement already satisfied: prometheus-client in /home/rizki/.asdf/installs/python/3.6.7/lib/python3.6/site-packages (from notebook->jupyter->-r https://raw.githubusercontent.com/rizki96/ds_challenge/master/requirements.txt (line 1)) (0.7.0)\n",
      "Requirement already satisfied: setuptools in /home/rizki/.asdf/installs/python/3.6.7/lib/python3.6/site-packages (from kiwisolver>=1.0.1->matplotlib->-r https://raw.githubusercontent.com/rizki96/ds_challenge/master/requirements.txt (line 7)) (39.0.1)\n",
      "Requirement already satisfied: graphviz<0.9.0,>=0.8.1 in /home/rizki/.asdf/installs/python/3.6.7/lib/python3.6/site-packages (from mxnet>=1.3.0->gluonts->-r https://raw.githubusercontent.com/rizki96/ds_challenge/master/requirements.txt (line 12)) (0.8.4)\n"
     ]
    },
    {
     "name": "stdout",
     "output_type": "stream",
     "text": [
      "Requirement already satisfied: s3transfer<0.3.0,>=0.2.0 in /home/rizki/.asdf/installs/python/3.6.7/lib/python3.6/site-packages (from boto3==1.*->gluonts->-r https://raw.githubusercontent.com/rizki96/ds_challenge/master/requirements.txt (line 12)) (0.2.1)\n",
      "Requirement already satisfied: botocore<1.13.0,>=1.12.164 in /home/rizki/.asdf/installs/python/3.6.7/lib/python3.6/site-packages (from boto3==1.*->gluonts->-r https://raw.githubusercontent.com/rizki96/ds_challenge/master/requirements.txt (line 12)) (1.12.164)\n",
      "Requirement already satisfied: jmespath<1.0.0,>=0.7.1 in /home/rizki/.asdf/installs/python/3.6.7/lib/python3.6/site-packages (from boto3==1.*->gluonts->-r https://raw.githubusercontent.com/rizki96/ds_challenge/master/requirements.txt (line 12)) (0.9.4)\n",
      "Requirement already satisfied: markdown>=2.6.8 in /home/rizki/.asdf/installs/python/3.6.7/lib/python3.6/site-packages (from tensorboard<1.14.0,>=1.13.0->tensorflow->-r https://raw.githubusercontent.com/rizki96/ds_challenge/master/requirements.txt (line 14)) (3.1.1)\n",
      "Requirement already satisfied: werkzeug>=0.11.15 in /home/rizki/.asdf/installs/python/3.6.7/lib/python3.6/site-packages (from tensorboard<1.14.0,>=1.13.0->tensorflow->-r https://raw.githubusercontent.com/rizki96/ds_challenge/master/requirements.txt (line 14)) (0.15.4)\n",
      "Requirement already satisfied: mock>=2.0.0 in /home/rizki/.asdf/installs/python/3.6.7/lib/python3.6/site-packages (from tensorflow-estimator<1.14.0rc0,>=1.13.0->tensorflow->-r https://raw.githubusercontent.com/rizki96/ds_challenge/master/requirements.txt (line 14)) (3.0.5)\n",
      "Requirement already satisfied: backcall in /home/rizki/.asdf/installs/python/3.6.7/lib/python3.6/site-packages (from ipython->jupyter-console->jupyter->-r https://raw.githubusercontent.com/rizki96/ds_challenge/master/requirements.txt (line 1)) (0.1.0)\n",
      "Requirement already satisfied: pickleshare in /home/rizki/.asdf/installs/python/3.6.7/lib/python3.6/site-packages (from ipython->jupyter-console->jupyter->-r https://raw.githubusercontent.com/rizki96/ds_challenge/master/requirements.txt (line 1)) (0.7.5)\n",
      "Requirement already satisfied: jedi>=0.10 in /home/rizki/.asdf/installs/python/3.6.7/lib/python3.6/site-packages (from ipython->jupyter-console->jupyter->-r https://raw.githubusercontent.com/rizki96/ds_challenge/master/requirements.txt (line 1)) (0.13.3)\n",
      "Requirement already satisfied: pexpect; sys_platform != \"win32\" in /home/rizki/.asdf/installs/python/3.6.7/lib/python3.6/site-packages (from ipython->jupyter-console->jupyter->-r https://raw.githubusercontent.com/rizki96/ds_challenge/master/requirements.txt (line 1)) (4.7.0)\n",
      "Requirement already satisfied: decorator in /home/rizki/.asdf/installs/python/3.6.7/lib/python3.6/site-packages (from ipython->jupyter-console->jupyter->-r https://raw.githubusercontent.com/rizki96/ds_challenge/master/requirements.txt (line 1)) (4.4.0)\n",
      "Requirement already satisfied: wcwidth in /home/rizki/.asdf/installs/python/3.6.7/lib/python3.6/site-packages (from prompt-toolkit<2.1.0,>=2.0.0->jupyter-console->jupyter->-r https://raw.githubusercontent.com/rizki96/ds_challenge/master/requirements.txt (line 1)) (0.1.7)\n",
      "Requirement already satisfied: jsonschema!=2.5.0,>=2.4 in /home/rizki/.asdf/installs/python/3.6.7/lib/python3.6/site-packages (from nbformat>=4.2.0->ipywidgets->jupyter->-r https://raw.githubusercontent.com/rizki96/ds_challenge/master/requirements.txt (line 1)) (3.0.1)\n",
      "Requirement already satisfied: webencodings in /home/rizki/.asdf/installs/python/3.6.7/lib/python3.6/site-packages (from bleach->nbconvert->jupyter->-r https://raw.githubusercontent.com/rizki96/ds_challenge/master/requirements.txt (line 1)) (0.5.1)\n",
      "Requirement already satisfied: MarkupSafe>=0.23 in /home/rizki/.asdf/installs/python/3.6.7/lib/python3.6/site-packages (from jinja2>=2.4->nbconvert->jupyter->-r https://raw.githubusercontent.com/rizki96/ds_challenge/master/requirements.txt (line 1)) (1.1.1)\n",
      "Requirement already satisfied: ptyprocess; os_name != \"nt\" in /home/rizki/.asdf/installs/python/3.6.7/lib/python3.6/site-packages (from terminado>=0.8.1->notebook->jupyter->-r https://raw.githubusercontent.com/rizki96/ds_challenge/master/requirements.txt (line 1)) (0.6.0)\n",
      "Requirement already satisfied: docutils>=0.10 in /home/rizki/.asdf/installs/python/3.6.7/lib/python3.6/site-packages (from botocore<1.13.0,>=1.12.164->boto3==1.*->gluonts->-r https://raw.githubusercontent.com/rizki96/ds_challenge/master/requirements.txt (line 12)) (0.14)\n",
      "Requirement already satisfied: parso>=0.3.0 in /home/rizki/.asdf/installs/python/3.6.7/lib/python3.6/site-packages (from jedi>=0.10->ipython->jupyter-console->jupyter->-r https://raw.githubusercontent.com/rizki96/ds_challenge/master/requirements.txt (line 1)) (0.4.0)\n",
      "Requirement already satisfied: attrs>=17.4.0 in /home/rizki/.asdf/installs/python/3.6.7/lib/python3.6/site-packages (from jsonschema!=2.5.0,>=2.4->nbformat>=4.2.0->ipywidgets->jupyter->-r https://raw.githubusercontent.com/rizki96/ds_challenge/master/requirements.txt (line 1)) (19.1.0)\n",
      "Requirement already satisfied: pyrsistent>=0.14.0 in /home/rizki/.asdf/installs/python/3.6.7/lib/python3.6/site-packages (from jsonschema!=2.5.0,>=2.4->nbformat>=4.2.0->ipywidgets->jupyter->-r https://raw.githubusercontent.com/rizki96/ds_challenge/master/requirements.txt (line 1)) (0.15.2)\n",
      "Note: you may need to restart the kernel to use updated packages.\n"
     ]
    }
   ],
   "source": [
    "pip install -r https://raw.githubusercontent.com/rizki96/ds_challenge/master/requirements.txt"
   ]
  },
  {
   "cell_type": "code",
   "execution_count": 2,
   "metadata": {},
   "outputs": [],
   "source": [
    "import io\n",
    "import bz2\n",
    "import pandas as pd\n",
    "import numpy as np\n",
    "import geohash\n",
    "import datetime\n",
    "import pprint\n",
    "import matplotlib.pyplot as plt\n",
    "import matplotlib.patches as mpatches\n",
    "import seaborn as sns\n",
    "import requests\n",
    "from sklearn import preprocessing\n",
    "from sklearn.cluster import DBSCAN\n",
    "from shapely.geometry import MultiPoint\n",
    "from geopy.distance import great_circle\n",
    "from pandas.plotting import register_matplotlib_converters\n",
    "from collections import OrderedDict\n",
    "from itertools import islice\n",
    "\n",
    "register_matplotlib_converters()"
   ]
  },
  {
   "cell_type": "code",
   "execution_count": 3,
   "metadata": {},
   "outputs": [],
   "source": [
    "# from local data file\n",
    "trf_df = pd.read_csv('training.csv.bz2', compression='bz2', header=0, sep=',', quotechar='\"')\n",
    "trf_df_sort = trf_df.sort_values(by=['day', 'timestamp'])\n",
    "\n",
    "# from remote data file\n",
    "#url=\"https://github.com/rizki96/ds_challenge/blob/master/Traffic%20Management/training.csv.bz2?raw=true\"\n",
    "#s=requests.get(url).content\n",
    "#data = bz2.decompress(s)\n",
    "#trf_df = pd.read_csv(io.BytesIO(data), header=0, sep=',', quotechar='\"')\n",
    "#trf_df_sort = trf_df.sort_values(by=['day', 'timestamp'])"
   ]
  },
  {
   "cell_type": "code",
   "execution_count": 4,
   "metadata": {},
   "outputs": [
    {
     "data": {
      "text/html": [
       "<div>\n",
       "<style scoped>\n",
       "    .dataframe tbody tr th:only-of-type {\n",
       "        vertical-align: middle;\n",
       "    }\n",
       "\n",
       "    .dataframe tbody tr th {\n",
       "        vertical-align: top;\n",
       "    }\n",
       "\n",
       "    .dataframe thead th {\n",
       "        text-align: right;\n",
       "    }\n",
       "</style>\n",
       "<table border=\"1\" class=\"dataframe\">\n",
       "  <thead>\n",
       "    <tr style=\"text-align: right;\">\n",
       "      <th></th>\n",
       "      <th>geohash6</th>\n",
       "      <th>day</th>\n",
       "      <th>timestamp</th>\n",
       "      <th>demand</th>\n",
       "    </tr>\n",
       "  </thead>\n",
       "  <tbody>\n",
       "    <tr>\n",
       "      <th>2289</th>\n",
       "      <td>qp09sx</td>\n",
       "      <td>1</td>\n",
       "      <td>0:0</td>\n",
       "      <td>0.021212</td>\n",
       "    </tr>\n",
       "    <tr>\n",
       "      <th>3149</th>\n",
       "      <td>qp0dhg</td>\n",
       "      <td>1</td>\n",
       "      <td>0:0</td>\n",
       "      <td>0.013217</td>\n",
       "    </tr>\n",
       "    <tr>\n",
       "      <th>11052</th>\n",
       "      <td>qp03x5</td>\n",
       "      <td>1</td>\n",
       "      <td>0:0</td>\n",
       "      <td>0.157956</td>\n",
       "    </tr>\n",
       "    <tr>\n",
       "      <th>23011</th>\n",
       "      <td>qp09bw</td>\n",
       "      <td>1</td>\n",
       "      <td>0:0</td>\n",
       "      <td>0.001262</td>\n",
       "    </tr>\n",
       "    <tr>\n",
       "      <th>26180</th>\n",
       "      <td>qp03wn</td>\n",
       "      <td>1</td>\n",
       "      <td>0:0</td>\n",
       "      <td>0.032721</td>\n",
       "    </tr>\n",
       "  </tbody>\n",
       "</table>\n",
       "</div>"
      ],
      "text/plain": [
       "      geohash6  day timestamp    demand\n",
       "2289    qp09sx    1       0:0  0.021212\n",
       "3149    qp0dhg    1       0:0  0.013217\n",
       "11052   qp03x5    1       0:0  0.157956\n",
       "23011   qp09bw    1       0:0  0.001262\n",
       "26180   qp03wn    1       0:0  0.032721"
      ]
     },
     "execution_count": 4,
     "metadata": {},
     "output_type": "execute_result"
    }
   ],
   "source": [
    "trf_df_sort[:5]"
   ]
  },
  {
   "cell_type": "code",
   "execution_count": 5,
   "metadata": {},
   "outputs": [],
   "source": [
    "trf_df_sort[\"dts_cal\"] = [datetime.datetime.strptime('2019-03-31 00:00:00.00', '%Y-%m-%d %H:%M:%S.%f') + datetime.timedelta(days=day, hours=int(timestamp.split(\":\")[0]), minutes=int(timestamp.split(\":\")[1])) for day,timestamp in trf_df_sort[[\"day\", \"timestamp\"]].values]"
   ]
  },
  {
   "cell_type": "code",
   "execution_count": 6,
   "metadata": {},
   "outputs": [
    {
     "data": {
      "text/html": [
       "<div>\n",
       "<style scoped>\n",
       "    .dataframe tbody tr th:only-of-type {\n",
       "        vertical-align: middle;\n",
       "    }\n",
       "\n",
       "    .dataframe tbody tr th {\n",
       "        vertical-align: top;\n",
       "    }\n",
       "\n",
       "    .dataframe thead th {\n",
       "        text-align: right;\n",
       "    }\n",
       "</style>\n",
       "<table border=\"1\" class=\"dataframe\">\n",
       "  <thead>\n",
       "    <tr style=\"text-align: right;\">\n",
       "      <th></th>\n",
       "      <th>geohash6</th>\n",
       "      <th>day</th>\n",
       "      <th>timestamp</th>\n",
       "      <th>demand</th>\n",
       "      <th>dts_cal</th>\n",
       "    </tr>\n",
       "  </thead>\n",
       "  <tbody>\n",
       "    <tr>\n",
       "      <th>2289</th>\n",
       "      <td>qp09sx</td>\n",
       "      <td>1</td>\n",
       "      <td>0:0</td>\n",
       "      <td>0.021212</td>\n",
       "      <td>2019-04-01</td>\n",
       "    </tr>\n",
       "    <tr>\n",
       "      <th>3149</th>\n",
       "      <td>qp0dhg</td>\n",
       "      <td>1</td>\n",
       "      <td>0:0</td>\n",
       "      <td>0.013217</td>\n",
       "      <td>2019-04-01</td>\n",
       "    </tr>\n",
       "    <tr>\n",
       "      <th>11052</th>\n",
       "      <td>qp03x5</td>\n",
       "      <td>1</td>\n",
       "      <td>0:0</td>\n",
       "      <td>0.157956</td>\n",
       "      <td>2019-04-01</td>\n",
       "    </tr>\n",
       "    <tr>\n",
       "      <th>23011</th>\n",
       "      <td>qp09bw</td>\n",
       "      <td>1</td>\n",
       "      <td>0:0</td>\n",
       "      <td>0.001262</td>\n",
       "      <td>2019-04-01</td>\n",
       "    </tr>\n",
       "    <tr>\n",
       "      <th>26180</th>\n",
       "      <td>qp03wn</td>\n",
       "      <td>1</td>\n",
       "      <td>0:0</td>\n",
       "      <td>0.032721</td>\n",
       "      <td>2019-04-01</td>\n",
       "    </tr>\n",
       "  </tbody>\n",
       "</table>\n",
       "</div>"
      ],
      "text/plain": [
       "      geohash6  day timestamp    demand    dts_cal\n",
       "2289    qp09sx    1       0:0  0.021212 2019-04-01\n",
       "3149    qp0dhg    1       0:0  0.013217 2019-04-01\n",
       "11052   qp03x5    1       0:0  0.157956 2019-04-01\n",
       "23011   qp09bw    1       0:0  0.001262 2019-04-01\n",
       "26180   qp03wn    1       0:0  0.032721 2019-04-01"
      ]
     },
     "execution_count": 6,
     "metadata": {},
     "output_type": "execute_result"
    }
   ],
   "source": [
    "trf_df_sort[:5]"
   ]
  },
  {
   "cell_type": "markdown",
   "metadata": {},
   "source": [
    "# data point population count"
   ]
  },
  {
   "cell_type": "code",
   "execution_count": 7,
   "metadata": {},
   "outputs": [],
   "source": [
    "dt_count = {dtstamp[0]: 0 for dtstamp in trf_df_sort[['day']].values}"
   ]
  },
  {
   "cell_type": "code",
   "execution_count": 8,
   "metadata": {},
   "outputs": [],
   "source": [
    "for dtstamp in trf_df_sort[['day']].values:\n",
    "    dt_count[dtstamp[0]] += 1"
   ]
  },
  {
   "cell_type": "code",
   "execution_count": 9,
   "metadata": {},
   "outputs": [
    {
     "data": {
      "text/html": [
       "<div>\n",
       "<style scoped>\n",
       "    .dataframe tbody tr th:only-of-type {\n",
       "        vertical-align: middle;\n",
       "    }\n",
       "\n",
       "    .dataframe tbody tr th {\n",
       "        vertical-align: top;\n",
       "    }\n",
       "\n",
       "    .dataframe thead th {\n",
       "        text-align: right;\n",
       "    }\n",
       "</style>\n",
       "<table border=\"1\" class=\"dataframe\">\n",
       "  <thead>\n",
       "    <tr style=\"text-align: right;\">\n",
       "      <th></th>\n",
       "      <th>ts</th>\n",
       "      <th>pcounts</th>\n",
       "    </tr>\n",
       "  </thead>\n",
       "  <tbody>\n",
       "    <tr>\n",
       "      <th>0</th>\n",
       "      <td>1</td>\n",
       "      <td>67627</td>\n",
       "    </tr>\n",
       "    <tr>\n",
       "      <th>1</th>\n",
       "      <td>2</td>\n",
       "      <td>70452</td>\n",
       "    </tr>\n",
       "    <tr>\n",
       "      <th>2</th>\n",
       "      <td>3</td>\n",
       "      <td>69966</td>\n",
       "    </tr>\n",
       "    <tr>\n",
       "      <th>3</th>\n",
       "      <td>4</td>\n",
       "      <td>72609</td>\n",
       "    </tr>\n",
       "    <tr>\n",
       "      <th>4</th>\n",
       "      <td>5</td>\n",
       "      <td>67279</td>\n",
       "    </tr>\n",
       "  </tbody>\n",
       "</table>\n",
       "</div>"
      ],
      "text/plain": [
       "   ts  pcounts\n",
       "0   1    67627\n",
       "1   2    70452\n",
       "2   3    69966\n",
       "3   4    72609\n",
       "4   5    67279"
      ]
     },
     "execution_count": 9,
     "metadata": {},
     "output_type": "execute_result"
    }
   ],
   "source": [
    "dt_count = [(d, dt_count[d]) for d in dt_count]\n",
    "ts, points = zip(*dt_count)\n",
    "dt_frame = pd.DataFrame({'ts': ts, 'pcounts': points})\n",
    "dt_frame[:5]"
   ]
  },
  {
   "cell_type": "code",
   "execution_count": 10,
   "metadata": {},
   "outputs": [
    {
     "data": {
      "image/png": "[encoded data removed]",
      "text/plain": [
       "<Figure size 1130.4x595.44 with 1 Axes>"
      ]
     },
     "metadata": {},
     "output_type": "display_data"
    }
   ],
   "source": [
    "sns.set(style=\"darkgrid\")\n",
    "sns.set(rc={'figure.figsize':(15.7,8.27)})\n",
    "sns.barplot(data=dt_frame, x='ts', y='pcounts')\n",
    "plt.show()"
   ]
  },
  {
   "cell_type": "markdown",
   "metadata": {},
   "source": [
    "# average demand per day"
   ]
  },
  {
   "cell_type": "code",
   "execution_count": 11,
   "metadata": {},
   "outputs": [
    {
     "data": {
      "text/html": [
       "<div>\n",
       "<style scoped>\n",
       "    .dataframe tbody tr th:only-of-type {\n",
       "        vertical-align: middle;\n",
       "    }\n",
       "\n",
       "    .dataframe tbody tr th {\n",
       "        vertical-align: top;\n",
       "    }\n",
       "\n",
       "    .dataframe thead th {\n",
       "        text-align: right;\n",
       "    }\n",
       "</style>\n",
       "<table border=\"1\" class=\"dataframe\">\n",
       "  <thead>\n",
       "    <tr style=\"text-align: right;\">\n",
       "      <th></th>\n",
       "      <th>ts</th>\n",
       "      <th>pcounts</th>\n",
       "      <th>avg_demand_day</th>\n",
       "    </tr>\n",
       "  </thead>\n",
       "  <tbody>\n",
       "    <tr>\n",
       "      <th>0</th>\n",
       "      <td>1</td>\n",
       "      <td>67627</td>\n",
       "      <td>0.093651</td>\n",
       "    </tr>\n",
       "    <tr>\n",
       "      <th>1</th>\n",
       "      <td>2</td>\n",
       "      <td>70452</td>\n",
       "      <td>0.109683</td>\n",
       "    </tr>\n",
       "    <tr>\n",
       "      <th>2</th>\n",
       "      <td>3</td>\n",
       "      <td>69966</td>\n",
       "      <td>0.108904</td>\n",
       "    </tr>\n",
       "    <tr>\n",
       "      <th>3</th>\n",
       "      <td>4</td>\n",
       "      <td>72609</td>\n",
       "      <td>0.120707</td>\n",
       "    </tr>\n",
       "    <tr>\n",
       "      <th>4</th>\n",
       "      <td>5</td>\n",
       "      <td>67279</td>\n",
       "      <td>0.094623</td>\n",
       "    </tr>\n",
       "  </tbody>\n",
       "</table>\n",
       "</div>"
      ],
      "text/plain": [
       "   ts  pcounts  avg_demand_day\n",
       "0   1    67627        0.093651\n",
       "1   2    70452        0.109683\n",
       "2   3    69966        0.108904\n",
       "3   4    72609        0.120707\n",
       "4   5    67279        0.094623"
      ]
     },
     "execution_count": 11,
     "metadata": {},
     "output_type": "execute_result"
    }
   ],
   "source": [
    "avg_demand_day = trf_df_sort.groupby(['day'])['demand'].apply(lambda x: np.mean(x))\n",
    "dt_frame['avg_demand_day'] = [a for a in avg_demand_day]\n",
    "dt_frame[:5]"
   ]
  },
  {
   "cell_type": "code",
   "execution_count": 12,
   "metadata": {},
   "outputs": [
    {
     "data": {
      "image/png": "[encoded data removed]",
      "text/plain": [
       "<Figure size 1130.4x595.44 with 1 Axes>"
      ]
     },
     "metadata": {},
     "output_type": "display_data"
    }
   ],
   "source": [
    "sns.set(style=\"darkgrid\")\n",
    "sns.set(rc={'figure.figsize':(15.7,8.27)})\n",
    "sns.barplot(data=dt_frame, x='ts', y='avg_demand_day')\n",
    "plt.show()"
   ]
  },
  {
   "cell_type": "markdown",
   "metadata": {},
   "source": [
    "# convert geohash into latitude longitude"
   ]
  },
  {
   "cell_type": "code",
   "execution_count": 13,
   "metadata": {},
   "outputs": [],
   "source": [
    "trf_df_sort.loc[:, 'latlon'] = trf_df_sort.geohash6.map(lambda x: geohash.decode(x))\n",
    "trf_df_sort['lat'] = [ll[0][0] for ll in trf_df_sort[['latlon']].values]\n",
    "trf_df_sort['lon'] = [ll[0][1] for ll in trf_df_sort[['latlon']].values]"
   ]
  },
  {
   "cell_type": "code",
   "execution_count": 14,
   "metadata": {},
   "outputs": [
    {
     "data": {
      "text/html": [
       "<div>\n",
       "<style scoped>\n",
       "    .dataframe tbody tr th:only-of-type {\n",
       "        vertical-align: middle;\n",
       "    }\n",
       "\n",
       "    .dataframe tbody tr th {\n",
       "        vertical-align: top;\n",
       "    }\n",
       "\n",
       "    .dataframe thead th {\n",
       "        text-align: right;\n",
       "    }\n",
       "</style>\n",
       "<table border=\"1\" class=\"dataframe\">\n",
       "  <thead>\n",
       "    <tr style=\"text-align: right;\">\n",
       "      <th></th>\n",
       "      <th>geohash6</th>\n",
       "      <th>day</th>\n",
       "      <th>timestamp</th>\n",
       "      <th>demand</th>\n",
       "      <th>dts_cal</th>\n",
       "      <th>latlon</th>\n",
       "      <th>lat</th>\n",
       "      <th>lon</th>\n",
       "    </tr>\n",
       "  </thead>\n",
       "  <tbody>\n",
       "    <tr>\n",
       "      <th>2289</th>\n",
       "      <td>qp09sx</td>\n",
       "      <td>1</td>\n",
       "      <td>0:0</td>\n",
       "      <td>0.021212</td>\n",
       "      <td>2019-04-01</td>\n",
       "      <td>(-5.32012939453125, 90.9063720703125)</td>\n",
       "      <td>-5.320129</td>\n",
       "      <td>90.906372</td>\n",
       "    </tr>\n",
       "    <tr>\n",
       "      <th>3149</th>\n",
       "      <td>qp0dhg</td>\n",
       "      <td>1</td>\n",
       "      <td>0:0</td>\n",
       "      <td>0.013217</td>\n",
       "      <td>2019-04-01</td>\n",
       "      <td>(-5.25421142578125, 90.9173583984375)</td>\n",
       "      <td>-5.254211</td>\n",
       "      <td>90.917358</td>\n",
       "    </tr>\n",
       "    <tr>\n",
       "      <th>11052</th>\n",
       "      <td>qp03x5</td>\n",
       "      <td>1</td>\n",
       "      <td>0:0</td>\n",
       "      <td>0.157956</td>\n",
       "      <td>2019-04-01</td>\n",
       "      <td>(-5.34210205078125, 90.6646728515625)</td>\n",
       "      <td>-5.342102</td>\n",
       "      <td>90.664673</td>\n",
       "    </tr>\n",
       "    <tr>\n",
       "      <th>23011</th>\n",
       "      <td>qp09bw</td>\n",
       "      <td>1</td>\n",
       "      <td>0:0</td>\n",
       "      <td>0.001262</td>\n",
       "      <td>2019-04-01</td>\n",
       "      <td>(-5.28167724609375, 90.7305908203125)</td>\n",
       "      <td>-5.281677</td>\n",
       "      <td>90.730591</td>\n",
       "    </tr>\n",
       "    <tr>\n",
       "      <th>26180</th>\n",
       "      <td>qp03wn</td>\n",
       "      <td>1</td>\n",
       "      <td>0:0</td>\n",
       "      <td>0.032721</td>\n",
       "      <td>2019-04-01</td>\n",
       "      <td>(-5.32562255859375, 90.6207275390625)</td>\n",
       "      <td>-5.325623</td>\n",
       "      <td>90.620728</td>\n",
       "    </tr>\n",
       "  </tbody>\n",
       "</table>\n",
       "</div>"
      ],
      "text/plain": [
       "      geohash6  day timestamp    demand    dts_cal  \\\n",
       "2289    qp09sx    1       0:0  0.021212 2019-04-01   \n",
       "3149    qp0dhg    1       0:0  0.013217 2019-04-01   \n",
       "11052   qp03x5    1       0:0  0.157956 2019-04-01   \n",
       "23011   qp09bw    1       0:0  0.001262 2019-04-01   \n",
       "26180   qp03wn    1       0:0  0.032721 2019-04-01   \n",
       "\n",
       "                                      latlon       lat        lon  \n",
       "2289   (-5.32012939453125, 90.9063720703125) -5.320129  90.906372  \n",
       "3149   (-5.25421142578125, 90.9173583984375) -5.254211  90.917358  \n",
       "11052  (-5.34210205078125, 90.6646728515625) -5.342102  90.664673  \n",
       "23011  (-5.28167724609375, 90.7305908203125) -5.281677  90.730591  \n",
       "26180  (-5.32562255859375, 90.6207275390625) -5.325623  90.620728  "
      ]
     },
     "execution_count": 14,
     "metadata": {},
     "output_type": "execute_result"
    }
   ],
   "source": [
    "trf_df_sort[:5]"
   ]
  },
  {
   "cell_type": "markdown",
   "metadata": {},
   "source": [
    "# week 1 and week 2 data"
   ]
  },
  {
   "cell_type": "code",
   "execution_count": 15,
   "metadata": {},
   "outputs": [],
   "source": [
    "initial_day = 1\n",
    "num_of_days = 14\n",
    "range_btwn_pts = 1 # in km\n",
    "min_samples = 1\n",
    "trf_week1 = pd.DataFrame(trf_df_sort[(trf_df_sort.day >= initial_day) & (trf_df_sort.day < (initial_day + num_of_days))])"
   ]
  },
  {
   "cell_type": "code",
   "execution_count": 16,
   "metadata": {},
   "outputs": [
    {
     "data": {
      "text/html": [
       "<div>\n",
       "<style scoped>\n",
       "    .dataframe tbody tr th:only-of-type {\n",
       "        vertical-align: middle;\n",
       "    }\n",
       "\n",
       "    .dataframe tbody tr th {\n",
       "        vertical-align: top;\n",
       "    }\n",
       "\n",
       "    .dataframe thead th {\n",
       "        text-align: right;\n",
       "    }\n",
       "</style>\n",
       "<table border=\"1\" class=\"dataframe\">\n",
       "  <thead>\n",
       "    <tr style=\"text-align: right;\">\n",
       "      <th></th>\n",
       "      <th>geohash6</th>\n",
       "      <th>day</th>\n",
       "      <th>timestamp</th>\n",
       "      <th>demand</th>\n",
       "      <th>dts_cal</th>\n",
       "      <th>latlon</th>\n",
       "      <th>lat</th>\n",
       "      <th>lon</th>\n",
       "    </tr>\n",
       "  </thead>\n",
       "  <tbody>\n",
       "    <tr>\n",
       "      <th>2289</th>\n",
       "      <td>qp09sx</td>\n",
       "      <td>1</td>\n",
       "      <td>0:0</td>\n",
       "      <td>0.021212</td>\n",
       "      <td>2019-04-01</td>\n",
       "      <td>(-5.32012939453125, 90.9063720703125)</td>\n",
       "      <td>-5.320129</td>\n",
       "      <td>90.906372</td>\n",
       "    </tr>\n",
       "    <tr>\n",
       "      <th>3149</th>\n",
       "      <td>qp0dhg</td>\n",
       "      <td>1</td>\n",
       "      <td>0:0</td>\n",
       "      <td>0.013217</td>\n",
       "      <td>2019-04-01</td>\n",
       "      <td>(-5.25421142578125, 90.9173583984375)</td>\n",
       "      <td>-5.254211</td>\n",
       "      <td>90.917358</td>\n",
       "    </tr>\n",
       "    <tr>\n",
       "      <th>11052</th>\n",
       "      <td>qp03x5</td>\n",
       "      <td>1</td>\n",
       "      <td>0:0</td>\n",
       "      <td>0.157956</td>\n",
       "      <td>2019-04-01</td>\n",
       "      <td>(-5.34210205078125, 90.6646728515625)</td>\n",
       "      <td>-5.342102</td>\n",
       "      <td>90.664673</td>\n",
       "    </tr>\n",
       "    <tr>\n",
       "      <th>23011</th>\n",
       "      <td>qp09bw</td>\n",
       "      <td>1</td>\n",
       "      <td>0:0</td>\n",
       "      <td>0.001262</td>\n",
       "      <td>2019-04-01</td>\n",
       "      <td>(-5.28167724609375, 90.7305908203125)</td>\n",
       "      <td>-5.281677</td>\n",
       "      <td>90.730591</td>\n",
       "    </tr>\n",
       "    <tr>\n",
       "      <th>26180</th>\n",
       "      <td>qp03wn</td>\n",
       "      <td>1</td>\n",
       "      <td>0:0</td>\n",
       "      <td>0.032721</td>\n",
       "      <td>2019-04-01</td>\n",
       "      <td>(-5.32562255859375, 90.6207275390625)</td>\n",
       "      <td>-5.325623</td>\n",
       "      <td>90.620728</td>\n",
       "    </tr>\n",
       "  </tbody>\n",
       "</table>\n",
       "</div>"
      ],
      "text/plain": [
       "      geohash6  day timestamp    demand    dts_cal  \\\n",
       "2289    qp09sx    1       0:0  0.021212 2019-04-01   \n",
       "3149    qp0dhg    1       0:0  0.013217 2019-04-01   \n",
       "11052   qp03x5    1       0:0  0.157956 2019-04-01   \n",
       "23011   qp09bw    1       0:0  0.001262 2019-04-01   \n",
       "26180   qp03wn    1       0:0  0.032721 2019-04-01   \n",
       "\n",
       "                                      latlon       lat        lon  \n",
       "2289   (-5.32012939453125, 90.9063720703125) -5.320129  90.906372  \n",
       "3149   (-5.25421142578125, 90.9173583984375) -5.254211  90.917358  \n",
       "11052  (-5.34210205078125, 90.6646728515625) -5.342102  90.664673  \n",
       "23011  (-5.28167724609375, 90.7305908203125) -5.281677  90.730591  \n",
       "26180  (-5.32562255859375, 90.6207275390625) -5.325623  90.620728  "
      ]
     },
     "execution_count": 16,
     "metadata": {},
     "output_type": "execute_result"
    }
   ],
   "source": [
    "trf_week1[:5]"
   ]
  },
  {
   "cell_type": "markdown",
   "metadata": {},
   "source": [
    "# day 1 to day 14 cluster"
   ]
  },
  {
   "cell_type": "code",
   "execution_count": 17,
   "metadata": {},
   "outputs": [],
   "source": [
    "day_ids = list(range(1,15))\n",
    "trf_day1 = pd.DataFrame(trf_week1[trf_week1.day.isin(day_ids)])\n",
    "coords = trf_day1[['lat', 'lon']].values"
   ]
  },
  {
   "cell_type": "code",
   "execution_count": null,
   "metadata": {},
   "outputs": [],
   "source": [
    "kms_per_radian = 6371.0088\n",
    "epsilon = range_btwn_pts / kms_per_radian\n",
    "db = DBSCAN(eps=epsilon, min_samples=min_samples, algorithm='ball_tree', metric='haversine').fit(np.radians(coords))\n",
    "cluster_labels = db.labels_\n",
    "num_clusters = len(set(cluster_labels))\n",
    "# mark as -1 for outliers\n",
    "clusters = pd.Series([coords[cluster_labels == n] for n in range(-1, num_clusters) if coords[cluster_labels == n].any()])\n",
    "#clusters = pd.Series([coords[cluster_labels == n] for n in range(num_clusters) if coords[cluster_labels == n].any()])\n",
    "#num_clusters = len(clusters)\n",
    "print('Number of day {} to day {} clusters: {}'.format(day_ids[0], day_ids[-1], num_clusters))\n",
    "clusters"
   ]
  },
  {
   "cell_type": "markdown",
   "metadata": {},
   "source": [
    "# cluster centermost_points"
   ]
  },
  {
   "cell_type": "code",
   "execution_count": null,
   "metadata": {},
   "outputs": [],
   "source": [
    "def get_centermost_point(cluster):\n",
    "    centroid = (MultiPoint(cluster).centroid.x, MultiPoint(cluster).centroid.y)\n",
    "    centermost_point = min(cluster, key=lambda point: great_circle(point, centroid).m)\n",
    "    return tuple(centermost_point)\n",
    "centermost_points = clusters.map(get_centermost_point)\n",
    "centermost_points"
   ]
  },
  {
   "cell_type": "code",
   "execution_count": null,
   "metadata": {},
   "outputs": [],
   "source": [
    "lats, lons = zip(*centermost_points)\n",
    "rep_points = pd.DataFrame({'lon':lons, 'lat':lats})"
   ]
  },
  {
   "cell_type": "code",
   "execution_count": null,
   "metadata": {},
   "outputs": [],
   "source": [
    "rs = rep_points.apply(lambda row: trf_day1[(trf_day1['lat']==row['lat']) & (trf_day1['lon']==row['lon'])].iloc[0], axis=1)\n",
    "rs[-5:]"
   ]
  },
  {
   "cell_type": "markdown",
   "metadata": {},
   "source": [
    "# cluster member and centermost_point visualization"
   ]
  },
  {
   "cell_type": "code",
   "execution_count": null,
   "metadata": {},
   "outputs": [],
   "source": [
    "fig, ax = plt.subplots(figsize=[10, 6])\n",
    "rs_scatter = ax.scatter(rs['lon'], rs['lat'], c='#99cc99', edgecolor='None', alpha=0.7, s=120)\n",
    "df_scatter = ax.scatter(trf_day1['lon'], trf_day1['lat'], c='k', alpha=0.9, s=3)\n",
    "ax.set_title('Full data set vs DBSCAN reduced set')\n",
    "ax.set_xlabel('Longitude')\n",
    "ax.set_ylabel('Latitude')\n",
    "ax.legend([df_scatter, rs_scatter], ['Full set', 'Reduced set'], loc='lower right')\n",
    "plt.show()"
   ]
  },
  {
   "cell_type": "markdown",
   "metadata": {},
   "source": [
    "# set label and is_centroid to cluster"
   ]
  },
  {
   "cell_type": "code",
   "execution_count": null,
   "metadata": {},
   "outputs": [],
   "source": [
    "# cluster_labels\n",
    "trf_day1['cluster_ids'] = cluster_labels"
   ]
  },
  {
   "cell_type": "code",
   "execution_count": null,
   "metadata": {},
   "outputs": [],
   "source": [
    "trf_day1[:5]"
   ]
  },
  {
   "cell_type": "code",
   "execution_count": null,
   "metadata": {},
   "outputs": [],
   "source": [
    "trf_day1 = trf_day1.sort_values(by=['cluster_ids', 'dts_cal', 'demand'])\n",
    "trf_day1['is_centroid'] = [(rs['geohash6'][y] == x) for x,y in trf_day1[['geohash6', 'cluster_ids']].values]"
   ]
  },
  {
   "cell_type": "code",
   "execution_count": null,
   "metadata": {},
   "outputs": [],
   "source": [
    "trf_day1[-5:]"
   ]
  },
  {
   "cell_type": "markdown",
   "metadata": {},
   "source": [
    "# set highest_demand and average demand to cluster"
   ]
  },
  {
   "cell_type": "code",
   "execution_count": null,
   "metadata": {},
   "outputs": [],
   "source": [
    "trf_day1_avg_demand = trf_day1.groupby(['cluster_ids','geohash6'])['demand'].apply(lambda x: np.mean(x)).sort_values(ascending=False)\n",
    "trf_day1['highest_demand'] = [trf_day1_avg_demand[x].index[0] == y for x,y in trf_day1[['cluster_ids', 'geohash6']].values]\n",
    "trf_day1['avg_demand'] = [trf_day1_avg_demand[x][y] for x,y in trf_day1[['cluster_ids', 'geohash6']].values]"
   ]
  },
  {
   "cell_type": "code",
   "execution_count": null,
   "metadata": {},
   "outputs": [],
   "source": [
    "#trf_day1[(trf_day1.highest_demand == True) & (trf_day1.geohash6 == 'qp09jt')][:5]\n",
    "trf_day1[(trf_day1.highest_demand == True)][-5:]"
   ]
  },
  {
   "cell_type": "markdown",
   "metadata": {},
   "source": [
    "# visualize time, center point and highest demand"
   ]
  },
  {
   "cell_type": "code",
   "execution_count": null,
   "metadata": {},
   "outputs": [],
   "source": [
    "# observation 10 samples cluster's center point demand\n",
    "trf_day1_center = pd.DataFrame(trf_day1[(trf_day1.is_centroid == True)].sort_values(by=['avg_demand', 'cluster_ids'], ascending=False))\n",
    "top_clusters = list(OrderedDict.fromkeys([c[0] for c in trf_day1_center[['cluster_ids']].values]))[0:10]\n",
    "top_trf_day1_center = trf_day1_center[(trf_day1_center.cluster_ids.isin(top_clusters))]\n",
    "#trf_day1_cl0_others = pd.DataFrame(trf_day1[(trf_day1.is_centroid == False) & (trf_day1.cluster_ids == 0) & (trf_day1.demand > 0.0)])\n",
    "#ax = sns.lineplot(x=\"dts_cal\", y=\"demand\", hue=\"geohash6\", data=trf_day1_cl0_others, legend=\"full\")\n",
    "#for l in ax.lines:\n",
    "#    l.set_linestyle(\"--\")\n",
    "sns.set(style=\"darkgrid\")\n",
    "sns.set(rc={'figure.figsize':(15.7,8.27)})\n",
    "sns.lineplot(x=\"dts_cal\", y=\"demand\", hue=\"geohash6\", data=top_trf_day1_center, legend=\"full\")\n",
    "plt.show()"
   ]
  },
  {
   "cell_type": "code",
   "execution_count": null,
   "metadata": {},
   "outputs": [],
   "source": [
    "# observation 10 samples cluster's highest demand\n",
    "trf_day1_highest = pd.DataFrame(trf_day1[(trf_day1.highest_demand == True)].sort_values(by=['avg_demand', 'cluster_ids'], ascending=False))\n",
    "top_clusters = list(OrderedDict.fromkeys([c[0] for c in trf_day1_highest[['cluster_ids']].values]))[0:10]\n",
    "top_trf_day1_highest = trf_day1_highest[(trf_day1_highest.cluster_ids.isin(top_clusters))]\n",
    "#trf_week1_cl0_lower = pd.DataFrame(trf_week1[(trf_week1.highest_demand == False) & (trf_week1.cluster_ids == 0) & (trf_week1.demand > 0.0)])\n",
    "#ax = sns.lineplot(x=\"dts_cal\", y=\"demand\", hue=\"geohash6\", data=trf_week1_cl0_lower, legend=\"full\")\n",
    "#for l in ax.lines:\n",
    "#    l.set_linestyle(\"--\")\n",
    "#    plt.setp(l,linewidth=1)\n",
    "sns.set(style=\"darkgrid\")\n",
    "sns.set(rc={'figure.figsize':(15.7,8.27)})\n",
    "sns.lineplot(x=\"dts_cal\", y=\"demand\", hue=\"geohash6\", data=top_trf_day1_highest, legend=\"full\")\n",
    "plt.show()"
   ]
  },
  {
   "cell_type": "markdown",
   "metadata": {},
   "source": [
    "# zero filling timeseries gap for cluster's highest demand"
   ]
  },
  {
   "cell_type": "code",
   "execution_count": null,
   "metadata": {},
   "outputs": [],
   "source": [
    "# looking for anomaly, is there any duplicate timeseries data (make sure it's unique)\n",
    "unique = True\n",
    "for c in list(OrderedDict.fromkeys([c[0] for c in trf_day1_highest[['cluster_ids']].values])):\n",
    "    if not pd.Series(y for x,y in trf_day1_highest[['cluster_ids', 'dts_cal']].values if x == c).is_unique:\n",
    "        print('timeseries cluster %s is not unique' % (c,))\n",
    "        unique = False\n",
    "if unique:\n",
    "    print('all timeseries clusters are unique')"
   ]
  },
  {
   "cell_type": "code",
   "execution_count": null,
   "metadata": {},
   "outputs": [],
   "source": [
    "# reinitial dataframe, fill unset timestamp with zero\n",
    "multiplier = len(day_ids)\n",
    "trf_day1_complete = pd.DataFrame({'geohash6': [],\n",
    "                                   'day': [],\n",
    "                                   'timestamp': [],\n",
    "                                   'demand': [],\n",
    "                                   'dts_cal': [],\n",
    "                                   'latlon': [],\n",
    "                                   'lat': [], 'lon': [],\n",
    "                                   'cluster_ids': [],\n",
    "                                   'is_centroid': [],\n",
    "                                   'highest_demand': [],\n",
    "                                   'avg_demand': []})\n",
    "interval_time = [datetime.timedelta(days=1,minutes=15*t) for t in range(24*4*multiplier)]\n",
    "start_date = datetime.datetime.strptime('2019-03-31 00:00:00.00', '%Y-%m-%d %H:%M:%S.%f')\n",
    "gh = trf_day1_highest.groupby(['cluster_ids'])['geohash6'].apply(list)\n",
    "demand = trf_day1_highest.groupby(['cluster_ids', 'dts_cal'])['demand'].apply(list)\n",
    "avg_demand = trf_day1_highest.groupby(['cluster_ids'])['avg_demand'].apply(list)\n",
    "highest_demand = trf_day1_highest.groupby(['cluster_ids'])['highest_demand'].apply(list)\n",
    "is_centroid = trf_day1_highest.groupby(['cluster_ids'])['is_centroid'].apply(list)\n",
    "cluster_list = list(OrderedDict.fromkeys([c[0] for c in trf_day1_highest[['cluster_ids']].values]))\n",
    "\n",
    "trf_day1_complete['cluster_ids'] = [c for _ in range(24*4*multiplier) for c in cluster_list]\n",
    "trf_day1_complete['geohash6'] = [gh[c][0] for _ in range(24*4*multiplier) for c in cluster_list]\n",
    "trf_day1_complete['dts_cal'] = [(start_date + t) for t in interval_time for c in cluster_list]\n",
    "trf_day1_complete['day'] = [int(t/(24*4)) + 1 for t in range(24*4*multiplier) for c in cluster_list]\n",
    "trf_day1_complete['timestamp'] = ['%s:%s' % ((start_date + t).hour, (start_date + t).minute) for t in interval_time for c in cluster_list]\n",
    "trf_day1_complete['avg_demand'] = [avg_demand[c][0] for _ in range(24*4*multiplier) for c in cluster_list]\n",
    "trf_day1_complete['highest_demand'] = [highest_demand[c][0] for _ in range(24*4*multiplier) for c in cluster_list]\n",
    "trf_day1_complete['is_centroid'] = [is_centroid[c][0] for _ in range(24*4*multiplier) for c in cluster_list]\n",
    "trf_day1_complete['demand'] = [demand[c][start_date + t][0] if (start_date + t) in demand[c] else 0 for t in interval_time for c in cluster_list]\n",
    "trf_day1_complete['latlon'] = [geohash.decode(gh[c][0]) for _ in range(24*4*multiplier) for c in cluster_list]\n",
    "trf_day1_complete['lat'] = [geohash.decode(gh[c][0])[0] for _ in range(24*4*multiplier) for c in cluster_list]\n",
    "trf_day1_complete['lon'] = [geohash.decode(gh[c][0])[1] for _ in range(24*4*multiplier) for c in cluster_list]\n",
    "trf_day1_complete\n"
   ]
  },
  {
   "cell_type": "markdown",
   "metadata": {},
   "source": [
    "# visualize after zero fill gap"
   ]
  },
  {
   "cell_type": "code",
   "execution_count": null,
   "metadata": {},
   "outputs": [],
   "source": [
    "# observation 10 samples cluster's highest demand\n",
    "top_clusters = list(OrderedDict.fromkeys([c[0] for c in trf_day1_complete[['cluster_ids']].values]))[0:10]\n",
    "top_trf_day1_complete_highest = trf_day1_complete[(trf_day1_complete.cluster_ids.isin(top_clusters))]\n",
    "#trf_week1_cl0_lower = pd.DataFrame(trf_week1[(trf_week1.highest_demand == False) & (trf_week1.cluster_ids == 0) & (trf_week1.demand > 0.0)])\n",
    "#ax = sns.lineplot(x=\"dts_cal\", y=\"demand\", hue=\"geohash6\", data=trf_week1_cl0_lower, legend=\"full\")\n",
    "#for l in ax.lines:\n",
    "#    l.set_linestyle(\"--\")\n",
    "#    plt.setp(l,linewidth=1)\n",
    "sns.set(style=\"darkgrid\")\n",
    "sns.set(rc={'figure.figsize':(15.7,8.27)})\n",
    "sns.lineplot(x=\"dts_cal\", y=\"demand\", hue=\"geohash6\", data=top_trf_day1_complete_highest, legend=\"full\")\n",
    "plt.show()"
   ]
  },
  {
   "cell_type": "markdown",
   "metadata": {},
   "source": [
    "# timeseries prediction"
   ]
  },
  {
   "cell_type": "code",
   "execution_count": null,
   "metadata": {
    "scrolled": true
   },
   "outputs": [],
   "source": [
    "# prepare sorted data\n",
    "total_sequence_series = 24*4*multiplier # 15 minutes within 24*multiplier hours\n",
    "#past_length = int(((multiplier-1) / multiplier)*total_sequence_series)\n",
    "prediction_length = int(24*4*(multiplier/2))\n",
    "trf_day1_complete_sort = trf_day1_complete.sort_values(by=['cluster_ids','dts_cal'], ascending=True)\n",
    "print(\"total_sequence_series: %s, prediction_length: %s\" % (total_sequence_series, prediction_length))\n",
    "trf_day1_complete_sort[:5]"
   ]
  },
  {
   "cell_type": "code",
   "execution_count": null,
   "metadata": {},
   "outputs": [],
   "source": [
    "# splitting data training and testing\n",
    "start_date = datetime.datetime.strptime('2019-03-31 00:00:00.00', '%Y-%m-%d %H:%M:%S.%f')\n",
    "#interval_time = [datetime.timedelta(days=1,minutes=15*t) for t in range(24*4*multiplier)]\n",
    "cluster_list = list(set([c for c in trf_day1_complete_sort['cluster_ids']]))\n",
    "demand = trf_day1_complete_sort.groupby(['cluster_ids', 'dts_cal'])['demand'].apply(list)\n",
    "\n",
    "# train dataset: use only 75% dataset, add \"target\" and \"start\" fields\n",
    "train_day1_ds = [[demand[c][start_date + t][0] for t in interval_time[:-prediction_length]] for c in cluster_list]\n",
    "\n",
    "# test dataset: use the whole dataset, add \"target\" and \"start\" fields\n",
    "test_day1_ds = [[demand[c][start_date + t][0] for t in interval_time[total_sequence_series-prediction_length:]] for c in cluster_list]"
   ]
  },
  {
   "cell_type": "code",
   "execution_count": null,
   "metadata": {},
   "outputs": [],
   "source": [
    "def plot_forecasts(tss, forecasts, past_length, num_plots):\n",
    "    for target, forecast in islice(zip(tss, forecasts), num_plots):\n",
    "        ax = target[-past_length:].plot(figsize=(12,5), linewidth=2)\n",
    "        forecast.plot(color='g')\n",
    "        plt.grid(which='both')\n",
    "        plt.legend([\"observations\", \"median prediction\", \"90% confidence interval\", \"50% confidence interval\"])\n",
    "        plt.show()"
   ]
  },
  {
   "cell_type": "code",
   "execution_count": null,
   "metadata": {},
   "outputs": [],
   "source": [
    "# disabled\n",
    "'''\n",
    "# start training, predicting and evaluating, first trial using gluonts default params\n",
    "from gluonts.dataset import common\n",
    "from gluonts.model import deepar\n",
    "from gluonts.model import simple_feedforward\n",
    "from gluonts.trainer import Trainer\n",
    "from gluonts.evaluation import Evaluator\n",
    "from gluonts.evaluation.backtest import make_evaluation_predictions\n",
    "\n",
    "start = pd.Timestamp(\"2019-04-01 00:00:00\", freq=\"15min\")\n",
    "\n",
    "# setup train data in gluonts format\n",
    "train_ds = [{'target': x, 'start': start} for x in train_day1_ds]\n",
    "train_data = common.ListDataset(train_ds, freq=\"15min\")\n",
    "\n",
    "# setup test data in gluonts format\n",
    "test_ds = [{'target': x, 'start': start} for x in test_day1_ds]\n",
    "test_data = common.ListDataset(test_ds, freq=\"15min\")\n",
    "\n",
    "estimator = deepar.DeepAREstimator(\n",
    "    freq=\"15min\",\n",
    "    prediction_length=prediction_length,\n",
    "    trainer=Trainer()\n",
    ")\n",
    "#estimator = simple_feedforward.SimpleFeedForwardEstimator(\n",
    "#    freq=\"15min\",\n",
    "#    prediction_length=prediction_length,\n",
    "#    trainer=Trainer()\n",
    "#)\n",
    "predictor = estimator.train(train_data)\n",
    "\n",
    "forecast_it, ts_it = make_evaluation_predictions(\n",
    "    test_data, predictor=predictor, num_eval_samples=100\n",
    ")\n",
    "\n",
    "forecasts = list(forecast_it)\n",
    "tss = list(ts_it)\n",
    "\n",
    "# plot for top 10 highest demand forecasts\n",
    "top_forecasts = [forecasts[c] for c in top_clusters]\n",
    "top_tss = [tss[c] for c in top_clusters]\n",
    "plot_forecasts(top_tss, top_forecasts, past_length=total_sequence_series,num_plots=len(top_clusters))\n",
    "\n",
    "#agg_metrics, item_metrics = Evaluator()(\n",
    "#    ts_it, forecast_it, num_series=len(test_data)\n",
    "#)\n",
    "\n",
    "#pprint.pprint(agg_metrics)\n",
    "\n",
    "#prediction = next(predictor.predict(data))\n",
    "#print(prediction)\n",
    "#prediction.plot(output_file=\"graph.png\")\n",
    "'''"
   ]
  },
  {
   "cell_type": "code",
   "execution_count": null,
   "metadata": {},
   "outputs": [],
   "source": [
    "# second trial using keras\n",
    "from lib import keras_timeseries\n",
    "X_mat = np.matrix(';'.join([' '.join([str(d) for d in ds]) for ds in train_day1_ds]))\n",
    "X_data = X_mat.round(15).reshape(len(cluster_list), total_sequence_series-prediction_length, 1)\n",
    "y_mat = np.matrix(';'.join([' '.join([str(d) for d in ds]) for ds in test_day1_ds]))\n",
    "y_data = y_mat.round(15).reshape(len(cluster_list), prediction_length, 1)\n",
    "\n",
    "#print(X_data.shape, y_data.shape)\n",
    "\n",
    "test_count = int(0.5*X_data.shape[0])\n",
    "X_train = X_data[:-test_count]\n",
    "X_test = X_data[test_count:]\n",
    "\n",
    "#print(X_train.shape, X_test.shape)\n",
    "\n",
    "y_train = y_data[:-test_count]\n",
    "y_test = y_data[test_count:]\n",
    "\n",
    "#print(y_train.shape, y_test.shape)\n",
    "\n",
    "N = X_train.shape[0] # size of samples\n",
    "T = X_train.shape[1] # length of each time series\n",
    "train_batch_size = N # number of time series considered together: batch_size | N\n",
    "T_after_cut = 24 # length of each cut part of the time series: T_after_cut | T\n",
    "dim_in = X_train.shape[2] # dimension of input time series\n",
    "dim_out = y_train.shape[2] # dimension of output time series\n",
    "test_batch_size = X_test.shape[0]\n",
    "\n",
    "inputs, outputs = \\\n",
    "    [keras_timeseries.stateful_cut(arr, train_batch_size, T_after_cut) for arr in \\\n",
    "    [X_train, y_train]]\n",
    "inputs_test, outputs_test = \\\n",
    "    [keras_timeseries.stateful_cut(arr, test_batch_size, T_after_cut) for arr in \\\n",
    "    [X_test, y_test]]\n",
    "#inputs, outputs, inputs_test, outputs_test"
   ]
  },
  {
   "cell_type": "code",
   "execution_count": null,
   "metadata": {},
   "outputs": [],
   "source": [
    "model = keras_timeseries.build_model(train_batch_size, int(total_sequence_series/T), dim_in, dim_out, T_after_cut)\n",
    "epochs = 500\n",
    "history = keras_timeseries.train_model(model, inputs, outputs, inputs_test, outputs_test,\n",
    "                N, T, epochs, train_batch_size, test_batch_size, T_after_cut)\n",
    "keras_timeseries.plotting(history)"
   ]
  },
  {
   "cell_type": "code",
   "execution_count": null,
   "metadata": {},
   "outputs": [],
   "source": []
  }
 ],
 "metadata": {
  "kernelspec": {
   "display_name": "Python 3",
   "language": "python",
   "name": "python3"
  },
  "language_info": {
   "codemirror_mode": {
    "name": "ipython",
    "version": 3
   },
   "file_extension": ".py",
   "mimetype": "text/x-python",
   "name": "python",
   "nbconvert_exporter": "python",
   "pygments_lexer": "ipython3",
   "version": "3.6.7"
  }
 },
 "nbformat": 4,
 "nbformat_minor": 2
}
